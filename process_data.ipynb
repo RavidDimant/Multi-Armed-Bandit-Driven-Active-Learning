{
 "cells": [
  {
   "cell_type": "code",
   "execution_count": 3,
   "metadata": {
    "collapsed": true,
    "pycharm": {
     "name": "#%%\n"
    }
   },
   "outputs": [],
   "source": [
    "import pandas as pd\n",
    "import numpy as np\n",
    "from sklearn.preprocessing import LabelEncoder"
   ]
  },
  {
   "cell_type": "markdown",
   "source": [
    "# Diabetes"
   ],
   "metadata": {
    "collapsed": false,
    "pycharm": {
     "name": "#%% md\n"
    }
   }
  },
  {
   "cell_type": "code",
   "execution_count": 34,
   "outputs": [
    {
     "data": {
      "text/plain": "  General_Health                  Checkup Exercise Heart_Disease Skin_Cancer  \\\n0           Poor  Within the past 2 years       No            No          No   \n1      Very Good     Within the past year       No           Yes          No   \n2      Very Good     Within the past year      Yes            No          No   \n3           Poor     Within the past year      Yes           Yes          No   \n4           Good     Within the past year       No            No          No   \n\n  Other_Cancer Depression Diabetes Arthritis     Sex Age_Category  \\\n0           No         No       No       Yes  Female        70-74   \n1           No         No      Yes        No  Female        70-74   \n2           No         No      Yes        No  Female        60-64   \n3           No         No      Yes        No    Male        75-79   \n4           No         No       No        No    Male          80+   \n\n   Height_(cm)  Weight_(kg)    BMI Smoking_History  Alcohol_Consumption  \\\n0        150.0        32.66  14.54             Yes                  0.0   \n1        165.0        77.11  28.29              No                  0.0   \n2        163.0        88.45  33.47              No                  4.0   \n3        180.0        93.44  28.73              No                  0.0   \n4        191.0        88.45  24.37             Yes                  0.0   \n\n   Fruit_Consumption  Green_Vegetables_Consumption  FriedPotato_Consumption  \n0               30.0                          16.0                     12.0  \n1               30.0                           0.0                      4.0  \n2               12.0                           3.0                     16.0  \n3               30.0                          30.0                      8.0  \n4                8.0                           4.0                      0.0  ",
      "text/html": "<div>\n<style scoped>\n    .dataframe tbody tr th:only-of-type {\n        vertical-align: middle;\n    }\n\n    .dataframe tbody tr th {\n        vertical-align: top;\n    }\n\n    .dataframe thead th {\n        text-align: right;\n    }\n</style>\n<table border=\"1\" class=\"dataframe\">\n  <thead>\n    <tr style=\"text-align: right;\">\n      <th></th>\n      <th>General_Health</th>\n      <th>Checkup</th>\n      <th>Exercise</th>\n      <th>Heart_Disease</th>\n      <th>Skin_Cancer</th>\n      <th>Other_Cancer</th>\n      <th>Depression</th>\n      <th>Diabetes</th>\n      <th>Arthritis</th>\n      <th>Sex</th>\n      <th>Age_Category</th>\n      <th>Height_(cm)</th>\n      <th>Weight_(kg)</th>\n      <th>BMI</th>\n      <th>Smoking_History</th>\n      <th>Alcohol_Consumption</th>\n      <th>Fruit_Consumption</th>\n      <th>Green_Vegetables_Consumption</th>\n      <th>FriedPotato_Consumption</th>\n    </tr>\n  </thead>\n  <tbody>\n    <tr>\n      <th>0</th>\n      <td>Poor</td>\n      <td>Within the past 2 years</td>\n      <td>No</td>\n      <td>No</td>\n      <td>No</td>\n      <td>No</td>\n      <td>No</td>\n      <td>No</td>\n      <td>Yes</td>\n      <td>Female</td>\n      <td>70-74</td>\n      <td>150.0</td>\n      <td>32.66</td>\n      <td>14.54</td>\n      <td>Yes</td>\n      <td>0.0</td>\n      <td>30.0</td>\n      <td>16.0</td>\n      <td>12.0</td>\n    </tr>\n    <tr>\n      <th>1</th>\n      <td>Very Good</td>\n      <td>Within the past year</td>\n      <td>No</td>\n      <td>Yes</td>\n      <td>No</td>\n      <td>No</td>\n      <td>No</td>\n      <td>Yes</td>\n      <td>No</td>\n      <td>Female</td>\n      <td>70-74</td>\n      <td>165.0</td>\n      <td>77.11</td>\n      <td>28.29</td>\n      <td>No</td>\n      <td>0.0</td>\n      <td>30.0</td>\n      <td>0.0</td>\n      <td>4.0</td>\n    </tr>\n    <tr>\n      <th>2</th>\n      <td>Very Good</td>\n      <td>Within the past year</td>\n      <td>Yes</td>\n      <td>No</td>\n      <td>No</td>\n      <td>No</td>\n      <td>No</td>\n      <td>Yes</td>\n      <td>No</td>\n      <td>Female</td>\n      <td>60-64</td>\n      <td>163.0</td>\n      <td>88.45</td>\n      <td>33.47</td>\n      <td>No</td>\n      <td>4.0</td>\n      <td>12.0</td>\n      <td>3.0</td>\n      <td>16.0</td>\n    </tr>\n    <tr>\n      <th>3</th>\n      <td>Poor</td>\n      <td>Within the past year</td>\n      <td>Yes</td>\n      <td>Yes</td>\n      <td>No</td>\n      <td>No</td>\n      <td>No</td>\n      <td>Yes</td>\n      <td>No</td>\n      <td>Male</td>\n      <td>75-79</td>\n      <td>180.0</td>\n      <td>93.44</td>\n      <td>28.73</td>\n      <td>No</td>\n      <td>0.0</td>\n      <td>30.0</td>\n      <td>30.0</td>\n      <td>8.0</td>\n    </tr>\n    <tr>\n      <th>4</th>\n      <td>Good</td>\n      <td>Within the past year</td>\n      <td>No</td>\n      <td>No</td>\n      <td>No</td>\n      <td>No</td>\n      <td>No</td>\n      <td>No</td>\n      <td>No</td>\n      <td>Male</td>\n      <td>80+</td>\n      <td>191.0</td>\n      <td>88.45</td>\n      <td>24.37</td>\n      <td>Yes</td>\n      <td>0.0</td>\n      <td>8.0</td>\n      <td>4.0</td>\n      <td>0.0</td>\n    </tr>\n  </tbody>\n</table>\n</div>"
     },
     "execution_count": 34,
     "metadata": {},
     "output_type": "execute_result"
    }
   ],
   "source": [
    "df = pd.read_csv(r\"data/original/CVD_cleaned.csv\")\n",
    "df.head()"
   ],
   "metadata": {
    "collapsed": false,
    "pycharm": {
     "name": "#%%\n"
    }
   }
  },
  {
   "cell_type": "code",
   "execution_count": 35,
   "outputs": [
    {
     "name": "stdout",
     "output_type": "stream",
     "text": [
      "  General_Health        Checkup       Exercise  Heart_Disease    Skin_Cancer  \\\n",
      "0  <class 'str'>  <class 'str'>  <class 'str'>  <class 'str'>  <class 'str'>   \n",
      "\n",
      "    Other_Cancer     Depression       Diabetes      Arthritis            Sex  \\\n",
      "0  <class 'str'>  <class 'str'>  <class 'str'>  <class 'str'>  <class 'str'>   \n",
      "\n",
      "    Age_Category      Height_(cm)      Weight_(kg)              BMI  \\\n",
      "0  <class 'str'>  <class 'float'>  <class 'float'>  <class 'float'>   \n",
      "\n",
      "  Smoking_History Alcohol_Consumption Fruit_Consumption  \\\n",
      "0   <class 'str'>     <class 'float'>   <class 'float'>   \n",
      "\n",
      "  Green_Vegetables_Consumption FriedPotato_Consumption  \n",
      "0              <class 'float'>         <class 'float'>  \n"
     ]
    }
   ],
   "source": [
    "actual_types = df.applymap(type)\n",
    "\n",
    "# Display a summary of the unique types for each column\n",
    "column_types = df.apply(lambda x: x.apply(type).unique())\n",
    "print(column_types)"
   ],
   "metadata": {
    "collapsed": false,
    "pycharm": {
     "name": "#%%\n"
    }
   }
  },
  {
   "cell_type": "code",
   "execution_count": 36,
   "outputs": [
    {
     "name": "stdout",
     "output_type": "stream",
     "text": [
      "* General_Health:\n",
      "\t unique value = ['Poor' 'Very Good' 'Good' 'Fair' 'Excellent']\n",
      "* Checkup:\n",
      "\t unique value = ['Within the past 2 years' 'Within the past year' '5 or more years ago'\n",
      " 'Within the past 5 years' 'Never']\n",
      "* Exercise:\n",
      "\t unique value = ['No' 'Yes']\n",
      "* Heart_Disease:\n",
      "\t unique value = ['No' 'Yes']\n",
      "* Skin_Cancer:\n",
      "\t unique value = ['No' 'Yes']\n",
      "* Other_Cancer:\n",
      "\t unique value = ['No' 'Yes']\n",
      "* Depression:\n",
      "\t unique value = ['No' 'Yes']\n",
      "* Diabetes:\n",
      "\t unique value = ['No' 'Yes' 'No, pre-diabetes or borderline diabetes'\n",
      " 'Yes, but female told only during pregnancy']\n",
      "* Arthritis:\n",
      "\t unique value = ['Yes' 'No']\n",
      "* Sex:\n",
      "\t unique value = ['Female' 'Male']\n",
      "* Age_Category:\n",
      "\t unique value = ['70-74' '60-64' '75-79' '80+' '65-69' '50-54' '45-49' '18-24' '30-34'\n",
      " '55-59' '35-39' '40-44' '25-29']\n",
      "* Height_(cm):\n",
      "\t unique value = [150. 165. 163. 180. 191. 183. 175. 160. 168. 178. 152. 157. 188. 185.\n",
      " 170. 173. 155. 193. 196. 206. 198. 140. 135. 145. 147. 142. 201. 218.\n",
      " 124. 203. 137. 122. 216. 224. 229. 151. 177. 164. 162. 156. 153. 169.\n",
      " 167. 172. 106. 190. 143. 171. 154. 176. 200. 146. 148. 158. 159. 187.\n",
      " 104. 120. 107. 211. 226. 182. 213.  97. 184. 125. 127. 234. 130. 119.\n",
      " 132. 105. 166. 181. 186.  91. 174. 208. 149.  96. 197. 161.  94. 103.\n",
      " 221. 134. 144. 189. 100. 179. 117.  99. 102. 110. 241. 115. 205. 195.\n",
      " 108.]\n",
      "* Weight_(kg):\n",
      "\t unique value = [ 32.66  77.11  88.45  93.44 154.22  69.85 108.86  72.57  91.63  74.84\n",
      "  73.48  83.91 113.4   52.16 116.12  99.79  81.65 104.33  79.38  55.79\n",
      " 124.74  81.19  70.31 112.49 147.42  84.82 102.06  64.41  60.78  61.23\n",
      "  88.    90.72  49.9   85.28 120.2   69.4   62.14  65.77  89.81  66.68\n",
      "  86.18  72.12  87.54  62.6   75.75  88.9   92.08  56.7   68.04  79.83\n",
      "  63.5   58.97 114.76  45.36  73.94  54.43 125.19  77.56  96.16  95.25\n",
      " 115.67  82.55 136.08  78.93  70.76  95.71  53.52  87.09  55.34  83.01\n",
      " 123.38  98.88  73.03  76.66  97.52  71.67  83.46 122.47  58.06  74.39\n",
      "  67.13  82.1   47.63  99.34  85.73 108.41  91.17  57.61  63.05  45.81\n",
      "  94.35  44.45 117.93 107.5  127.01 106.59 107.95  89.36  92.99  53.07\n",
      "  78.02 131.09  97.98  84.37 111.13  50.8   57.15  64.86  80.29  76.2\n",
      " 114.31  65.32  97.07  67.59  75.3  105.69 110.68  86.64  51.26  61.69\n",
      " 107.05  42.64  40.82 101.6   90.26 131.54  98.43  78.47  59.87  68.95\n",
      "  60.33  94.8   48.53  96.62 117.48 102.51  46.27 109.77  58.51  68.49\n",
      " 133.81 158.76  52.62  80.74  48.99 117.03  54.88  33.11  51.71  92.53\n",
      "  34.02  44.91 105.23 145.6  106.14  56.25 139.71 124.28 103.42  71.21\n",
      " 138.35 143.34 101.15 103.87 145.15  93.89  49.44  46.72 120.66 132.9\n",
      " 112.04 167.83 142.88  66.22  63.96 162.39 176.9  121.56 111.58 136.98\n",
      " 110.22 170.1  122.02 133.36 119.75 129.27 175.54 151.95 118.39 121.11\n",
      " 132.45 135.62 119.29 102.97 172.37 156.49  43.09  43.54 157.4   59.42\n",
      " 181.44 125.65 127.91 144.7  149.69 113.85 163.29 100.7  115.21 112.94\n",
      " 208.65 127.46 100.24 136.53  50.35 130.63 122.92 141.97  47.17 142.43\n",
      " 132.   118.84 116.57 151.5  137.44  72.   140.61 169.19  44.   160.57\n",
      " 104.78 130.18  65.   134.72  48.08 139.25  53.98  36.29 129.73  38.56\n",
      " 228.16 166.92 148.32 174.63 146.96 235.87 161.03 152.86 105.    75.\n",
      " 109.   123.83 165.56  42.18 134.26 140.16 228.61 128.82  39.92  78.\n",
      " 109.32 204.12  85.   141.52 161.48 185.97  90.    61.    95.    60.\n",
      "  45.   126.1   82.   137.89  70.    64.   100.    63.   126.55 135.17\n",
      "  74.   150.59  83.   189.15 143.79  97.    73.    54.    80.   164.2\n",
      "  55.   155.13  52.    67.   144.24  68.   226.8   62.    76.   190.51\n",
      " 146.51 188.24 199.58  79.    96.   152.41  58.   138.8  118.   165.11\n",
      " 153.31  84.    38.1   41.73  39.01  37.19  87.   128.37 156.04 187.79\n",
      " 168.28 136.    35.38 166.01 213.19  89.    66.    40.37  81.   210.92\n",
      "  50.   155.58  25.4  224.53 179.17 159.66 176.45 209.56 151.05 148.78\n",
      " 217.72 146.06 140.   219.99  86.   141.07 110.    92.    31.75  41.28\n",
      "  33.57 130.    48.   161.93  94.    98.   183.25  53.    34.47 120.\n",
      "  77.   183.7  272.16 171.46 206.84  26.76 200.    69.   101.   180.53\n",
      "  47.   126.    59.   215.46 175.99 166.47 184.61 153.77  39.46 174.18\n",
      " 186.43  46.    40.   195.04 104.   201.85 147.87 192.78  36.74 162.84\n",
      " 134.   157.85 191.87 272.61  51.   231.33  37.65  93.    56.   149.23\n",
      " 154.68 158.3  194.59 179.62 159.   210.47 180.98 169.64 285.76 177.81\n",
      " 119.   150.   159.21 167.38 244.03 163.75 168.74 173.27 227.7   99.\n",
      " 200.94 229.52 219.54 232.69 175.09 229.97 293.02 200.49 195.95 190.96\n",
      " 212.73 150.14 229.06 178.72 181.89  34.93 171.   156.94 176.    57.\n",
      "  71.   103.   254.01  30.84 249.48 240.4  238.14 205.93 273.52 215.\n",
      " 187.33 182.   164.65 233.6   29.94 199.13 185.07 216.36 186.88 189.6\n",
      " 173.73 219.09  24.95 203.21 210.01  35.83 190.06 116.   197.31 154.\n",
      " 180.08 102.   222.26 202.76  27.22 206.38 135.   170.55 160.    43.\n",
      " 188.69 106.   177.35 112.   160.12 195.   172.82 220.45 184.16 185.52\n",
      "  26.31  41.   274.42 207.75 180.   175.   141.   230.88 222.71 258.55\n",
      " 203.66 113.   182.34 195.5  191.42 215.91 178.26 257.64 244.94 263.08\n",
      " 214.1  117.   172.   115.   185.   247.21  39.   193.68 127.    30.\n",
      " 250.   252.2  283.5   49.    42.  ]\n",
      "* BMI:\n",
      "\t unique value = [14.54 28.29 33.47 ... 63.83 19.09 56.32]\n",
      "* Smoking_History:\n",
      "\t unique value = ['Yes' 'No']\n",
      "* Alcohol_Consumption:\n",
      "\t unique value = [ 0.  4.  3.  8. 30.  2. 12.  1.  5. 10. 20. 17. 16.  6. 25. 28. 15.  7.\n",
      "  9. 24. 11. 29. 27. 14. 21. 23. 18. 26. 22. 13. 19.]\n",
      "* Fruit_Consumption:\n",
      "\t unique value = [ 30.  12.   8.  16.   2.   1.  60.   0.   7.   5.   3.   6.  90.  28.\n",
      "  20.   4.  80.  24.  15.  10.  25.  14. 120.  32.  40.  17.  45. 100.\n",
      "   9.  99.  96.  35.  50.  56.  48.  27.  72.  36.  84.  26.  23.  18.\n",
      "  21.  42.  22.  11. 112.  29.  64.  70.  33.  76.  44.  39.  75.  31.\n",
      "  92. 104.  88.  65.  55.  13.  38.  63.  97. 108.  19.  52.  98.  37.\n",
      "  68.  34.  41. 116.  54.  62.  85.]\n",
      "* Green_Vegetables_Consumption:\n",
      "\t unique value = [ 16.   0.   3.  30.   4.  12.   8.  20.   1.  10.   5.   2.   6.  60.\n",
      "  28.  25.  14.  40.   7.  22.  24.  15. 120.  90.  19.  13.  11.  80.\n",
      "  27.  17.  56.  18.   9.  21.  99.  29.  31.  45.  23. 100. 104.  32.\n",
      "  48.  75.  36.  35. 112.  26.  50.  33.  96.  52.  76.  84.  34.  97.\n",
      "  88.  98.  68.  92.  55.  95.  64. 124.  61.  65.  77.  85.  44.  39.\n",
      "  70.  93. 128.  37.  53.]\n",
      "* FriedPotato_Consumption:\n",
      "\t unique value = [ 12.   4.  16.   8.   0.   1.   2.  30.  20.  15.  10.   3.   7.  28.\n",
      "   5.   9.   6. 120.  32.  14.  60.  33.  48.  25.  24.  21.  90.  13.\n",
      "  99.  17.  18.  40.  56.  34.  36.  44. 100.  11.  64.  45.  80.  29.\n",
      "  68.  26.  50.  22.  95.  23.  27. 112.  35.  31.  98.  96.  88.  92.\n",
      "  19.  76.  49.  97. 128.  41.  37.  42.  52.  72.  46. 124.  84.]\n"
     ]
    }
   ],
   "source": [
    "for column in df.columns:\n",
    "    print(f\"* {column}:\")\n",
    "    print(f\"\\t unique value = {df[column].unique()}\")"
   ],
   "metadata": {
    "collapsed": false,
    "pycharm": {
     "name": "#%%\n"
    }
   }
  },
  {
   "cell_type": "code",
   "execution_count": 37,
   "outputs": [],
   "source": [
    "# Replace specific values to simplify them\n",
    "df['Diabetes'] = df['Diabetes'].replace({\n",
    "    'No, pre-diabetes or borderline diabetes': 'No',\n",
    "    'Yes, but female told only during pregnancy': 'Yes'\n",
    "})"
   ],
   "metadata": {
    "collapsed": false,
    "pycharm": {
     "name": "#%%\n"
    }
   }
  },
  {
   "cell_type": "code",
   "execution_count": 48,
   "outputs": [],
   "source": [
    "# # 1. Separate categorical (string) and numerical (float) columns\n",
    "# categorical_cols = df.select_dtypes(include='object').columns\n",
    "# numeric_cols = df.select_dtypes(include=['int64', 'float64']).columns\n",
    "#\n",
    "# # 2. One-hot encode the categorical columns\n",
    "# df_onehot = pd.get_dummies(df[categorical_cols], drop_first=False)\n",
    "#\n",
    "# # 3. Concatenate numeric columns with the one-hot encoded categorical columns\n",
    "# df_final = pd.concat([df[numeric_cols], df_onehot], axis=1)\n",
    "#\n",
    "# # 4. Display the new DataFrame\n",
    "# df_final.head()\n",
    "#\n",
    "# # Save converted data\n",
    "# df_final.to_csv('converted_data.csv', index=False)"
   ],
   "metadata": {
    "collapsed": false,
    "pycharm": {
     "name": "#%%\n"
    }
   }
  },
  {
   "cell_type": "code",
   "execution_count": 38,
   "outputs": [
    {
     "data": {
      "text/plain": "   Height_(cm)  Weight_(kg)       BMI  Alcohol_Consumption  Fruit_Consumption  \\\n0     0.622407     0.111460  0.146381             0.000000           0.250000   \n1     0.684647     0.263156  0.284808             0.000000           0.250000   \n2     0.676349     0.301857  0.336958             0.133333           0.100000   \n3     0.746888     0.318886  0.289238             0.000000           0.250000   \n4     0.792531     0.301857  0.245344             0.000000           0.066667   \n\n   Green_Vegetables_Consumption  FriedPotato_Consumption  \\\n0                      0.125000                  0.09375   \n1                      0.000000                  0.03125   \n2                      0.023438                  0.12500   \n3                      0.234375                  0.06250   \n4                      0.031250                  0.00000   \n\n   General_Health_Excellent  General_Health_Fair  General_Health_Good  ...  \\\n0                         0                    0                    0  ...   \n1                         0                    0                    0  ...   \n2                         0                    0                    0  ...   \n3                         0                    0                    0  ...   \n4                         0                    0                    1  ...   \n\n   Age_Category_40-44  Age_Category_45-49  Age_Category_50-54  \\\n0                   0                   0                   0   \n1                   0                   0                   0   \n2                   0                   0                   0   \n3                   0                   0                   0   \n4                   0                   0                   0   \n\n   Age_Category_55-59  Age_Category_60-64  Age_Category_65-69  \\\n0                   0                   0                   0   \n1                   0                   0                   0   \n2                   0                   1                   0   \n3                   0                   0                   0   \n4                   0                   0                   0   \n\n   Age_Category_70-74  Age_Category_75-79  Age_Category_80+  Smoking_History  \n0                   1                   0                 0                1  \n1                   1                   0                 0                0  \n2                   0                   0                 0                0  \n3                   0                   1                 0                0  \n4                   0                   0                 1                1  \n\n[5 rows x 39 columns]",
      "text/html": "<div>\n<style scoped>\n    .dataframe tbody tr th:only-of-type {\n        vertical-align: middle;\n    }\n\n    .dataframe tbody tr th {\n        vertical-align: top;\n    }\n\n    .dataframe thead th {\n        text-align: right;\n    }\n</style>\n<table border=\"1\" class=\"dataframe\">\n  <thead>\n    <tr style=\"text-align: right;\">\n      <th></th>\n      <th>Height_(cm)</th>\n      <th>Weight_(kg)</th>\n      <th>BMI</th>\n      <th>Alcohol_Consumption</th>\n      <th>Fruit_Consumption</th>\n      <th>Green_Vegetables_Consumption</th>\n      <th>FriedPotato_Consumption</th>\n      <th>General_Health_Excellent</th>\n      <th>General_Health_Fair</th>\n      <th>General_Health_Good</th>\n      <th>...</th>\n      <th>Age_Category_40-44</th>\n      <th>Age_Category_45-49</th>\n      <th>Age_Category_50-54</th>\n      <th>Age_Category_55-59</th>\n      <th>Age_Category_60-64</th>\n      <th>Age_Category_65-69</th>\n      <th>Age_Category_70-74</th>\n      <th>Age_Category_75-79</th>\n      <th>Age_Category_80+</th>\n      <th>Smoking_History</th>\n    </tr>\n  </thead>\n  <tbody>\n    <tr>\n      <th>0</th>\n      <td>0.622407</td>\n      <td>0.111460</td>\n      <td>0.146381</td>\n      <td>0.000000</td>\n      <td>0.250000</td>\n      <td>0.125000</td>\n      <td>0.09375</td>\n      <td>0</td>\n      <td>0</td>\n      <td>0</td>\n      <td>...</td>\n      <td>0</td>\n      <td>0</td>\n      <td>0</td>\n      <td>0</td>\n      <td>0</td>\n      <td>0</td>\n      <td>1</td>\n      <td>0</td>\n      <td>0</td>\n      <td>1</td>\n    </tr>\n    <tr>\n      <th>1</th>\n      <td>0.684647</td>\n      <td>0.263156</td>\n      <td>0.284808</td>\n      <td>0.000000</td>\n      <td>0.250000</td>\n      <td>0.000000</td>\n      <td>0.03125</td>\n      <td>0</td>\n      <td>0</td>\n      <td>0</td>\n      <td>...</td>\n      <td>0</td>\n      <td>0</td>\n      <td>0</td>\n      <td>0</td>\n      <td>0</td>\n      <td>0</td>\n      <td>1</td>\n      <td>0</td>\n      <td>0</td>\n      <td>0</td>\n    </tr>\n    <tr>\n      <th>2</th>\n      <td>0.676349</td>\n      <td>0.301857</td>\n      <td>0.336958</td>\n      <td>0.133333</td>\n      <td>0.100000</td>\n      <td>0.023438</td>\n      <td>0.12500</td>\n      <td>0</td>\n      <td>0</td>\n      <td>0</td>\n      <td>...</td>\n      <td>0</td>\n      <td>0</td>\n      <td>0</td>\n      <td>0</td>\n      <td>1</td>\n      <td>0</td>\n      <td>0</td>\n      <td>0</td>\n      <td>0</td>\n      <td>0</td>\n    </tr>\n    <tr>\n      <th>3</th>\n      <td>0.746888</td>\n      <td>0.318886</td>\n      <td>0.289238</td>\n      <td>0.000000</td>\n      <td>0.250000</td>\n      <td>0.234375</td>\n      <td>0.06250</td>\n      <td>0</td>\n      <td>0</td>\n      <td>0</td>\n      <td>...</td>\n      <td>0</td>\n      <td>0</td>\n      <td>0</td>\n      <td>0</td>\n      <td>0</td>\n      <td>0</td>\n      <td>0</td>\n      <td>1</td>\n      <td>0</td>\n      <td>0</td>\n    </tr>\n    <tr>\n      <th>4</th>\n      <td>0.792531</td>\n      <td>0.301857</td>\n      <td>0.245344</td>\n      <td>0.000000</td>\n      <td>0.066667</td>\n      <td>0.031250</td>\n      <td>0.00000</td>\n      <td>0</td>\n      <td>0</td>\n      <td>1</td>\n      <td>...</td>\n      <td>0</td>\n      <td>0</td>\n      <td>0</td>\n      <td>0</td>\n      <td>0</td>\n      <td>0</td>\n      <td>0</td>\n      <td>0</td>\n      <td>1</td>\n      <td>1</td>\n    </tr>\n  </tbody>\n</table>\n<p>5 rows × 39 columns</p>\n</div>"
     },
     "execution_count": 38,
     "metadata": {},
     "output_type": "execute_result"
    }
   ],
   "source": [
    "# 1. Separate categorical (string) and numerical (float) columns\n",
    "categorical_cols = df.select_dtypes(include='object').columns\n",
    "numeric_cols = df.select_dtypes(include=['int64', 'float64']).columns\n",
    "\n",
    "# 2. Initialize an empty DataFrame to store the processed categorical columns\n",
    "df_processed_categorical = pd.DataFrame()\n",
    "\n",
    "# 3. Iterate through each categorical column and decide how to encode it\n",
    "for col in categorical_cols:\n",
    "    if df[col].nunique() == 2:  # If the column has only two unique values\n",
    "        # Use LabelEncoder for binary columns (0/1)\n",
    "        le = LabelEncoder()\n",
    "        df_processed_categorical[col] = le.fit_transform(df[col])\n",
    "    else:\n",
    "        # Use one-hot encoding for columns with more than two categories\n",
    "        df_onehot = pd.get_dummies(df[col], prefix=col, drop_first=False)\n",
    "        df_processed_categorical = pd.concat([df_processed_categorical, df_onehot], axis=1)\n",
    "\n",
    "for col in numeric_cols:\n",
    "    df[col] = df[col] / df[col].max()\n",
    "\n",
    "# 4. Concatenate numeric columns with the processed categorical columns\n",
    "df_final = pd.concat([df[numeric_cols], df_processed_categorical], axis=1)\n",
    "\n",
    "# 5. Display the new DataFrame\n",
    "df_final.head()"
   ],
   "metadata": {
    "collapsed": false,
    "pycharm": {
     "name": "#%%\n"
    }
   }
  },
  {
   "cell_type": "code",
   "execution_count": 40,
   "outputs": [
    {
     "name": "stdout",
     "output_type": "stream",
     "text": [
      "42817\n",
      "266037\n"
     ]
    }
   ],
   "source": [
    "df_positive = df_final[df_final['Diabetes'] == 1]\n",
    "df_negative = df_final[df_final['Diabetes'] == 0]\n",
    "print(len(df_positive))\n",
    "print(len(df_negative))"
   ],
   "metadata": {
    "collapsed": false,
    "pycharm": {
     "name": "#%%\n"
    }
   }
  },
  {
   "cell_type": "code",
   "execution_count": 41,
   "outputs": [],
   "source": [
    "sample_from_each = 10000\n",
    "df_final = pd.concat([df_positive.sample(n=sample_from_each, random_state=1), df_negative.sample(n=sample_from_each, random_state=1)])"
   ],
   "metadata": {
    "collapsed": false,
    "pycharm": {
     "name": "#%%\n"
    }
   }
  },
  {
   "cell_type": "code",
   "execution_count": 42,
   "outputs": [],
   "source": [
    "# 6. Save the converted data\n",
    "df_final.to_csv('data/converted_diabetes_data.csv', index=False)"
   ],
   "metadata": {
    "collapsed": false,
    "pycharm": {
     "name": "#%%\n"
    }
   }
  },
  {
   "cell_type": "markdown",
   "source": [
    "# Glass Dataset"
   ],
   "metadata": {
    "collapsed": false,
    "pycharm": {
     "name": "#%% md\n"
    }
   }
  },
  {
   "cell_type": "code",
   "execution_count": 18,
   "outputs": [
    {
     "data": {
      "text/plain": "          RI     Na    Mg    Al     Si     K    Ca    Ba   Fe  Type\n0    1.52101  13.64  4.49  1.10  71.78  0.06  8.75  0.00  0.0     1\n1    1.51761  13.89  3.60  1.36  72.73  0.48  7.83  0.00  0.0     1\n2    1.51618  13.53  3.55  1.54  72.99  0.39  7.78  0.00  0.0     1\n3    1.51766  13.21  3.69  1.29  72.61  0.57  8.22  0.00  0.0     1\n4    1.51742  13.27  3.62  1.24  73.08  0.55  8.07  0.00  0.0     1\n..       ...    ...   ...   ...    ...   ...   ...   ...  ...   ...\n209  1.51623  14.14  0.00  2.88  72.61  0.08  9.18  1.06  0.0     4\n210  1.51685  14.92  0.00  1.99  73.06  0.00  8.40  1.59  0.0     4\n211  1.52065  14.36  0.00  2.02  73.42  0.00  8.44  1.64  0.0     4\n212  1.51651  14.38  0.00  1.94  73.61  0.00  8.48  1.57  0.0     4\n213  1.51711  14.23  0.00  2.08  73.36  0.00  8.62  1.67  0.0     4\n\n[214 rows x 10 columns]",
      "text/html": "<div>\n<style scoped>\n    .dataframe tbody tr th:only-of-type {\n        vertical-align: middle;\n    }\n\n    .dataframe tbody tr th {\n        vertical-align: top;\n    }\n\n    .dataframe thead th {\n        text-align: right;\n    }\n</style>\n<table border=\"1\" class=\"dataframe\">\n  <thead>\n    <tr style=\"text-align: right;\">\n      <th></th>\n      <th>RI</th>\n      <th>Na</th>\n      <th>Mg</th>\n      <th>Al</th>\n      <th>Si</th>\n      <th>K</th>\n      <th>Ca</th>\n      <th>Ba</th>\n      <th>Fe</th>\n      <th>Type</th>\n    </tr>\n  </thead>\n  <tbody>\n    <tr>\n      <th>0</th>\n      <td>1.52101</td>\n      <td>13.64</td>\n      <td>4.49</td>\n      <td>1.10</td>\n      <td>71.78</td>\n      <td>0.06</td>\n      <td>8.75</td>\n      <td>0.00</td>\n      <td>0.0</td>\n      <td>1</td>\n    </tr>\n    <tr>\n      <th>1</th>\n      <td>1.51761</td>\n      <td>13.89</td>\n      <td>3.60</td>\n      <td>1.36</td>\n      <td>72.73</td>\n      <td>0.48</td>\n      <td>7.83</td>\n      <td>0.00</td>\n      <td>0.0</td>\n      <td>1</td>\n    </tr>\n    <tr>\n      <th>2</th>\n      <td>1.51618</td>\n      <td>13.53</td>\n      <td>3.55</td>\n      <td>1.54</td>\n      <td>72.99</td>\n      <td>0.39</td>\n      <td>7.78</td>\n      <td>0.00</td>\n      <td>0.0</td>\n      <td>1</td>\n    </tr>\n    <tr>\n      <th>3</th>\n      <td>1.51766</td>\n      <td>13.21</td>\n      <td>3.69</td>\n      <td>1.29</td>\n      <td>72.61</td>\n      <td>0.57</td>\n      <td>8.22</td>\n      <td>0.00</td>\n      <td>0.0</td>\n      <td>1</td>\n    </tr>\n    <tr>\n      <th>4</th>\n      <td>1.51742</td>\n      <td>13.27</td>\n      <td>3.62</td>\n      <td>1.24</td>\n      <td>73.08</td>\n      <td>0.55</td>\n      <td>8.07</td>\n      <td>0.00</td>\n      <td>0.0</td>\n      <td>1</td>\n    </tr>\n    <tr>\n      <th>...</th>\n      <td>...</td>\n      <td>...</td>\n      <td>...</td>\n      <td>...</td>\n      <td>...</td>\n      <td>...</td>\n      <td>...</td>\n      <td>...</td>\n      <td>...</td>\n      <td>...</td>\n    </tr>\n    <tr>\n      <th>209</th>\n      <td>1.51623</td>\n      <td>14.14</td>\n      <td>0.00</td>\n      <td>2.88</td>\n      <td>72.61</td>\n      <td>0.08</td>\n      <td>9.18</td>\n      <td>1.06</td>\n      <td>0.0</td>\n      <td>4</td>\n    </tr>\n    <tr>\n      <th>210</th>\n      <td>1.51685</td>\n      <td>14.92</td>\n      <td>0.00</td>\n      <td>1.99</td>\n      <td>73.06</td>\n      <td>0.00</td>\n      <td>8.40</td>\n      <td>1.59</td>\n      <td>0.0</td>\n      <td>4</td>\n    </tr>\n    <tr>\n      <th>211</th>\n      <td>1.52065</td>\n      <td>14.36</td>\n      <td>0.00</td>\n      <td>2.02</td>\n      <td>73.42</td>\n      <td>0.00</td>\n      <td>8.44</td>\n      <td>1.64</td>\n      <td>0.0</td>\n      <td>4</td>\n    </tr>\n    <tr>\n      <th>212</th>\n      <td>1.51651</td>\n      <td>14.38</td>\n      <td>0.00</td>\n      <td>1.94</td>\n      <td>73.61</td>\n      <td>0.00</td>\n      <td>8.48</td>\n      <td>1.57</td>\n      <td>0.0</td>\n      <td>4</td>\n    </tr>\n    <tr>\n      <th>213</th>\n      <td>1.51711</td>\n      <td>14.23</td>\n      <td>0.00</td>\n      <td>2.08</td>\n      <td>73.36</td>\n      <td>0.00</td>\n      <td>8.62</td>\n      <td>1.67</td>\n      <td>0.0</td>\n      <td>4</td>\n    </tr>\n  </tbody>\n</table>\n<p>214 rows × 10 columns</p>\n</div>"
     },
     "execution_count": 18,
     "metadata": {},
     "output_type": "execute_result"
    }
   ],
   "source": [
    "glass_df = pd.read_csv('data/original/glass.csv')\n",
    "glass_df"
   ],
   "metadata": {
    "collapsed": false,
    "pycharm": {
     "name": "#%%\n"
    }
   }
  },
  {
   "cell_type": "code",
   "execution_count": 19,
   "outputs": [],
   "source": [
    "glass_df['Type'] -= 1"
   ],
   "metadata": {
    "collapsed": false,
    "pycharm": {
     "name": "#%%\n"
    }
   }
  },
  {
   "cell_type": "code",
   "execution_count": 20,
   "outputs": [
    {
     "data": {
      "text/plain": "          RI     Na    Mg    Al     Si     K     Ca    Ba    Fe  Type\nmin  1.51115  10.73  0.00  0.29  69.81  0.00   5.43  0.00  0.00     0\nmax  1.53393  17.38  4.49  3.50  75.41  6.21  16.19  3.15  0.51     6",
      "text/html": "<div>\n<style scoped>\n    .dataframe tbody tr th:only-of-type {\n        vertical-align: middle;\n    }\n\n    .dataframe tbody tr th {\n        vertical-align: top;\n    }\n\n    .dataframe thead th {\n        text-align: right;\n    }\n</style>\n<table border=\"1\" class=\"dataframe\">\n  <thead>\n    <tr style=\"text-align: right;\">\n      <th></th>\n      <th>RI</th>\n      <th>Na</th>\n      <th>Mg</th>\n      <th>Al</th>\n      <th>Si</th>\n      <th>K</th>\n      <th>Ca</th>\n      <th>Ba</th>\n      <th>Fe</th>\n      <th>Type</th>\n    </tr>\n  </thead>\n  <tbody>\n    <tr>\n      <th>min</th>\n      <td>1.51115</td>\n      <td>10.73</td>\n      <td>0.00</td>\n      <td>0.29</td>\n      <td>69.81</td>\n      <td>0.00</td>\n      <td>5.43</td>\n      <td>0.00</td>\n      <td>0.00</td>\n      <td>0</td>\n    </tr>\n    <tr>\n      <th>max</th>\n      <td>1.53393</td>\n      <td>17.38</td>\n      <td>4.49</td>\n      <td>3.50</td>\n      <td>75.41</td>\n      <td>6.21</td>\n      <td>16.19</td>\n      <td>3.15</td>\n      <td>0.51</td>\n      <td>6</td>\n    </tr>\n  </tbody>\n</table>\n</div>"
     },
     "execution_count": 20,
     "metadata": {},
     "output_type": "execute_result"
    }
   ],
   "source": [
    "range_df = glass_df.agg(['min', 'max'])\n",
    "range_df"
   ],
   "metadata": {
    "collapsed": false,
    "pycharm": {
     "name": "#%%\n"
    }
   }
  },
  {
   "cell_type": "code",
   "execution_count": 21,
   "outputs": [],
   "source": [
    "for col in glass_df.columns[:-1]:\n",
    "    glass_df[col] = glass_df[col] / glass_df[col].max()"
   ],
   "metadata": {
    "collapsed": false,
    "pycharm": {
     "name": "#%%\n"
    }
   }
  },
  {
   "cell_type": "code",
   "execution_count": 22,
   "outputs": [],
   "source": [
    "glass_df.to_csv('data/converted_glass_data.csv', index=False)"
   ],
   "metadata": {
    "collapsed": false,
    "pycharm": {
     "name": "#%%\n"
    }
   }
  },
  {
   "cell_type": "markdown",
   "source": [
    "# car_evaluation"
   ],
   "metadata": {
    "collapsed": false,
    "pycharm": {
     "name": "#%% md\n"
    }
   }
  },
  {
   "cell_type": "code",
   "execution_count": 4,
   "outputs": [
    {
     "data": {
      "text/plain": "      vhigh vhigh.1      2   2.1  small   low  unacc\n0     vhigh   vhigh      2     2  small   med  unacc\n1     vhigh   vhigh      2     2  small  high  unacc\n2     vhigh   vhigh      2     2    med   low  unacc\n3     vhigh   vhigh      2     2    med   med  unacc\n4     vhigh   vhigh      2     2    med  high  unacc\n...     ...     ...    ...   ...    ...   ...    ...\n1722    low     low  5more  more    med   med   good\n1723    low     low  5more  more    med  high  vgood\n1724    low     low  5more  more    big   low  unacc\n1725    low     low  5more  more    big   med   good\n1726    low     low  5more  more    big  high  vgood\n\n[1727 rows x 7 columns]",
      "text/html": "<div>\n<style scoped>\n    .dataframe tbody tr th:only-of-type {\n        vertical-align: middle;\n    }\n\n    .dataframe tbody tr th {\n        vertical-align: top;\n    }\n\n    .dataframe thead th {\n        text-align: right;\n    }\n</style>\n<table border=\"1\" class=\"dataframe\">\n  <thead>\n    <tr style=\"text-align: right;\">\n      <th></th>\n      <th>vhigh</th>\n      <th>vhigh.1</th>\n      <th>2</th>\n      <th>2.1</th>\n      <th>small</th>\n      <th>low</th>\n      <th>unacc</th>\n    </tr>\n  </thead>\n  <tbody>\n    <tr>\n      <th>0</th>\n      <td>vhigh</td>\n      <td>vhigh</td>\n      <td>2</td>\n      <td>2</td>\n      <td>small</td>\n      <td>med</td>\n      <td>unacc</td>\n    </tr>\n    <tr>\n      <th>1</th>\n      <td>vhigh</td>\n      <td>vhigh</td>\n      <td>2</td>\n      <td>2</td>\n      <td>small</td>\n      <td>high</td>\n      <td>unacc</td>\n    </tr>\n    <tr>\n      <th>2</th>\n      <td>vhigh</td>\n      <td>vhigh</td>\n      <td>2</td>\n      <td>2</td>\n      <td>med</td>\n      <td>low</td>\n      <td>unacc</td>\n    </tr>\n    <tr>\n      <th>3</th>\n      <td>vhigh</td>\n      <td>vhigh</td>\n      <td>2</td>\n      <td>2</td>\n      <td>med</td>\n      <td>med</td>\n      <td>unacc</td>\n    </tr>\n    <tr>\n      <th>4</th>\n      <td>vhigh</td>\n      <td>vhigh</td>\n      <td>2</td>\n      <td>2</td>\n      <td>med</td>\n      <td>high</td>\n      <td>unacc</td>\n    </tr>\n    <tr>\n      <th>...</th>\n      <td>...</td>\n      <td>...</td>\n      <td>...</td>\n      <td>...</td>\n      <td>...</td>\n      <td>...</td>\n      <td>...</td>\n    </tr>\n    <tr>\n      <th>1722</th>\n      <td>low</td>\n      <td>low</td>\n      <td>5more</td>\n      <td>more</td>\n      <td>med</td>\n      <td>med</td>\n      <td>good</td>\n    </tr>\n    <tr>\n      <th>1723</th>\n      <td>low</td>\n      <td>low</td>\n      <td>5more</td>\n      <td>more</td>\n      <td>med</td>\n      <td>high</td>\n      <td>vgood</td>\n    </tr>\n    <tr>\n      <th>1724</th>\n      <td>low</td>\n      <td>low</td>\n      <td>5more</td>\n      <td>more</td>\n      <td>big</td>\n      <td>low</td>\n      <td>unacc</td>\n    </tr>\n    <tr>\n      <th>1725</th>\n      <td>low</td>\n      <td>low</td>\n      <td>5more</td>\n      <td>more</td>\n      <td>big</td>\n      <td>med</td>\n      <td>good</td>\n    </tr>\n    <tr>\n      <th>1726</th>\n      <td>low</td>\n      <td>low</td>\n      <td>5more</td>\n      <td>more</td>\n      <td>big</td>\n      <td>high</td>\n      <td>vgood</td>\n    </tr>\n  </tbody>\n</table>\n<p>1727 rows × 7 columns</p>\n</div>"
     },
     "execution_count": 4,
     "metadata": {},
     "output_type": "execute_result"
    }
   ],
   "source": [
    "car_df = pd.read_csv(\"data/original/car_evaluation.csv\")\n",
    "car_df"
   ],
   "metadata": {
    "collapsed": false,
    "pycharm": {
     "name": "#%%\n"
    }
   }
  },
  {
   "cell_type": "code",
   "execution_count": 5,
   "outputs": [
    {
     "name": "stdout",
     "output_type": "stream",
     "text": [
      "* vhigh:\n",
      "\t unique value = ['vhigh' 'high' 'med' 'low']\n",
      "* vhigh.1:\n",
      "\t unique value = ['vhigh' 'high' 'med' 'low']\n",
      "* 2:\n",
      "\t unique value = ['2' '3' '4' '5more']\n",
      "* 2.1:\n",
      "\t unique value = ['2' '4' 'more']\n",
      "* small:\n",
      "\t unique value = ['small' 'med' 'big']\n",
      "* low:\n",
      "\t unique value = ['med' 'high' 'low']\n",
      "* unacc:\n",
      "\t unique value = ['unacc' 'acc' 'vgood' 'good']\n"
     ]
    }
   ],
   "source": [
    "for column in car_df.columns:\n",
    "    print(f\"* {column}:\")\n",
    "    print(f\"\\t unique value = {car_df[column].unique()}\")"
   ],
   "metadata": {
    "collapsed": false,
    "pycharm": {
     "name": "#%%\n"
    }
   }
  },
  {
   "cell_type": "code",
   "execution_count": 6,
   "outputs": [],
   "source": [
    "converted_car_df = pd.DataFrame()\n",
    "for col in car_df.columns[:-1]:\n",
    "    df_onehot = pd.get_dummies(car_df[col], prefix=col, drop_first=False)\n",
    "    converted_car_df = pd.concat([converted_car_df, df_onehot], axis=1)\n",
    "\n",
    "converted_car_df = pd.concat([converted_car_df, car_df['unacc']], axis=1)\n",
    "converted_car_df['unacc'] = pd.factorize(converted_car_df['unacc'])[0]"
   ],
   "metadata": {
    "collapsed": false,
    "pycharm": {
     "name": "#%%\n"
    }
   }
  },
  {
   "cell_type": "code",
   "execution_count": 7,
   "outputs": [
    {
     "data": {
      "text/plain": "   vhigh_high  vhigh_low  vhigh_med  vhigh_vhigh  vhigh.1_high  vhigh.1_low  \\\n0           0          0          0            1             0            0   \n1           0          0          0            1             0            0   \n2           0          0          0            1             0            0   \n3           0          0          0            1             0            0   \n4           0          0          0            1             0            0   \n\n   vhigh.1_med  vhigh.1_vhigh  2_2  2_3  ...  2.1_2  2.1_4  2.1_more  \\\n0            0              1    1    0  ...      1      0         0   \n1            0              1    1    0  ...      1      0         0   \n2            0              1    1    0  ...      1      0         0   \n3            0              1    1    0  ...      1      0         0   \n4            0              1    1    0  ...      1      0         0   \n\n   small_big  small_med  small_small  low_high  low_low  low_med  unacc  \n0          0          0            1         0        0        1      0  \n1          0          0            1         1        0        0      0  \n2          0          1            0         0        1        0      0  \n3          0          1            0         0        0        1      0  \n4          0          1            0         1        0        0      0  \n\n[5 rows x 22 columns]",
      "text/html": "<div>\n<style scoped>\n    .dataframe tbody tr th:only-of-type {\n        vertical-align: middle;\n    }\n\n    .dataframe tbody tr th {\n        vertical-align: top;\n    }\n\n    .dataframe thead th {\n        text-align: right;\n    }\n</style>\n<table border=\"1\" class=\"dataframe\">\n  <thead>\n    <tr style=\"text-align: right;\">\n      <th></th>\n      <th>vhigh_high</th>\n      <th>vhigh_low</th>\n      <th>vhigh_med</th>\n      <th>vhigh_vhigh</th>\n      <th>vhigh.1_high</th>\n      <th>vhigh.1_low</th>\n      <th>vhigh.1_med</th>\n      <th>vhigh.1_vhigh</th>\n      <th>2_2</th>\n      <th>2_3</th>\n      <th>...</th>\n      <th>2.1_2</th>\n      <th>2.1_4</th>\n      <th>2.1_more</th>\n      <th>small_big</th>\n      <th>small_med</th>\n      <th>small_small</th>\n      <th>low_high</th>\n      <th>low_low</th>\n      <th>low_med</th>\n      <th>unacc</th>\n    </tr>\n  </thead>\n  <tbody>\n    <tr>\n      <th>0</th>\n      <td>0</td>\n      <td>0</td>\n      <td>0</td>\n      <td>1</td>\n      <td>0</td>\n      <td>0</td>\n      <td>0</td>\n      <td>1</td>\n      <td>1</td>\n      <td>0</td>\n      <td>...</td>\n      <td>1</td>\n      <td>0</td>\n      <td>0</td>\n      <td>0</td>\n      <td>0</td>\n      <td>1</td>\n      <td>0</td>\n      <td>0</td>\n      <td>1</td>\n      <td>0</td>\n    </tr>\n    <tr>\n      <th>1</th>\n      <td>0</td>\n      <td>0</td>\n      <td>0</td>\n      <td>1</td>\n      <td>0</td>\n      <td>0</td>\n      <td>0</td>\n      <td>1</td>\n      <td>1</td>\n      <td>0</td>\n      <td>...</td>\n      <td>1</td>\n      <td>0</td>\n      <td>0</td>\n      <td>0</td>\n      <td>0</td>\n      <td>1</td>\n      <td>1</td>\n      <td>0</td>\n      <td>0</td>\n      <td>0</td>\n    </tr>\n    <tr>\n      <th>2</th>\n      <td>0</td>\n      <td>0</td>\n      <td>0</td>\n      <td>1</td>\n      <td>0</td>\n      <td>0</td>\n      <td>0</td>\n      <td>1</td>\n      <td>1</td>\n      <td>0</td>\n      <td>...</td>\n      <td>1</td>\n      <td>0</td>\n      <td>0</td>\n      <td>0</td>\n      <td>1</td>\n      <td>0</td>\n      <td>0</td>\n      <td>1</td>\n      <td>0</td>\n      <td>0</td>\n    </tr>\n    <tr>\n      <th>3</th>\n      <td>0</td>\n      <td>0</td>\n      <td>0</td>\n      <td>1</td>\n      <td>0</td>\n      <td>0</td>\n      <td>0</td>\n      <td>1</td>\n      <td>1</td>\n      <td>0</td>\n      <td>...</td>\n      <td>1</td>\n      <td>0</td>\n      <td>0</td>\n      <td>0</td>\n      <td>1</td>\n      <td>0</td>\n      <td>0</td>\n      <td>0</td>\n      <td>1</td>\n      <td>0</td>\n    </tr>\n    <tr>\n      <th>4</th>\n      <td>0</td>\n      <td>0</td>\n      <td>0</td>\n      <td>1</td>\n      <td>0</td>\n      <td>0</td>\n      <td>0</td>\n      <td>1</td>\n      <td>1</td>\n      <td>0</td>\n      <td>...</td>\n      <td>1</td>\n      <td>0</td>\n      <td>0</td>\n      <td>0</td>\n      <td>1</td>\n      <td>0</td>\n      <td>1</td>\n      <td>0</td>\n      <td>0</td>\n      <td>0</td>\n    </tr>\n  </tbody>\n</table>\n<p>5 rows × 22 columns</p>\n</div>"
     },
     "execution_count": 7,
     "metadata": {},
     "output_type": "execute_result"
    }
   ],
   "source": [
    "converted_car_df.head()"
   ],
   "metadata": {
    "collapsed": false,
    "pycharm": {
     "name": "#%%\n"
    }
   }
  },
  {
   "cell_type": "code",
   "execution_count": 9,
   "outputs": [
    {
     "data": {
      "text/plain": "0    1209\n1     384\n3      69\n2      65\nName: unacc, dtype: int64"
     },
     "execution_count": 9,
     "metadata": {},
     "output_type": "execute_result"
    }
   ],
   "source": [
    "counts = converted_car_df['unacc'].value_counts()\n",
    "counts"
   ],
   "metadata": {
    "collapsed": false,
    "pycharm": {
     "name": "#%%\n"
    }
   }
  },
  {
   "cell_type": "code",
   "execution_count": 10,
   "outputs": [],
   "source": [
    "converted_car_df.to_csv('data/converted_car_data.csv', index=False)"
   ],
   "metadata": {
    "collapsed": false,
    "pycharm": {
     "name": "#%%\n"
    }
   }
  },
  {
   "cell_type": "markdown",
   "source": [
    "# winequality-red"
   ],
   "metadata": {
    "collapsed": false,
    "pycharm": {
     "name": "#%% md\n"
    }
   }
  },
  {
   "cell_type": "code",
   "execution_count": 23,
   "outputs": [
    {
     "data": {
      "text/plain": "   fixed acidity  volatile acidity  citric acid  residual sugar  chlorides  \\\n0            7.4              0.70         0.00             1.9      0.076   \n1            7.8              0.88         0.00             2.6      0.098   \n2            7.8              0.76         0.04             2.3      0.092   \n3           11.2              0.28         0.56             1.9      0.075   \n4            7.4              0.70         0.00             1.9      0.076   \n\n   free sulfur dioxide  total sulfur dioxide  density    pH  sulphates  \\\n0                 11.0                  34.0   0.9978  3.51       0.56   \n1                 25.0                  67.0   0.9968  3.20       0.68   \n2                 15.0                  54.0   0.9970  3.26       0.65   \n3                 17.0                  60.0   0.9980  3.16       0.58   \n4                 11.0                  34.0   0.9978  3.51       0.56   \n\n   alcohol  quality  \n0      9.4        5  \n1      9.8        5  \n2      9.8        5  \n3      9.8        6  \n4      9.4        5  ",
      "text/html": "<div>\n<style scoped>\n    .dataframe tbody tr th:only-of-type {\n        vertical-align: middle;\n    }\n\n    .dataframe tbody tr th {\n        vertical-align: top;\n    }\n\n    .dataframe thead th {\n        text-align: right;\n    }\n</style>\n<table border=\"1\" class=\"dataframe\">\n  <thead>\n    <tr style=\"text-align: right;\">\n      <th></th>\n      <th>fixed acidity</th>\n      <th>volatile acidity</th>\n      <th>citric acid</th>\n      <th>residual sugar</th>\n      <th>chlorides</th>\n      <th>free sulfur dioxide</th>\n      <th>total sulfur dioxide</th>\n      <th>density</th>\n      <th>pH</th>\n      <th>sulphates</th>\n      <th>alcohol</th>\n      <th>quality</th>\n    </tr>\n  </thead>\n  <tbody>\n    <tr>\n      <th>0</th>\n      <td>7.4</td>\n      <td>0.70</td>\n      <td>0.00</td>\n      <td>1.9</td>\n      <td>0.076</td>\n      <td>11.0</td>\n      <td>34.0</td>\n      <td>0.9978</td>\n      <td>3.51</td>\n      <td>0.56</td>\n      <td>9.4</td>\n      <td>5</td>\n    </tr>\n    <tr>\n      <th>1</th>\n      <td>7.8</td>\n      <td>0.88</td>\n      <td>0.00</td>\n      <td>2.6</td>\n      <td>0.098</td>\n      <td>25.0</td>\n      <td>67.0</td>\n      <td>0.9968</td>\n      <td>3.20</td>\n      <td>0.68</td>\n      <td>9.8</td>\n      <td>5</td>\n    </tr>\n    <tr>\n      <th>2</th>\n      <td>7.8</td>\n      <td>0.76</td>\n      <td>0.04</td>\n      <td>2.3</td>\n      <td>0.092</td>\n      <td>15.0</td>\n      <td>54.0</td>\n      <td>0.9970</td>\n      <td>3.26</td>\n      <td>0.65</td>\n      <td>9.8</td>\n      <td>5</td>\n    </tr>\n    <tr>\n      <th>3</th>\n      <td>11.2</td>\n      <td>0.28</td>\n      <td>0.56</td>\n      <td>1.9</td>\n      <td>0.075</td>\n      <td>17.0</td>\n      <td>60.0</td>\n      <td>0.9980</td>\n      <td>3.16</td>\n      <td>0.58</td>\n      <td>9.8</td>\n      <td>6</td>\n    </tr>\n    <tr>\n      <th>4</th>\n      <td>7.4</td>\n      <td>0.70</td>\n      <td>0.00</td>\n      <td>1.9</td>\n      <td>0.076</td>\n      <td>11.0</td>\n      <td>34.0</td>\n      <td>0.9978</td>\n      <td>3.51</td>\n      <td>0.56</td>\n      <td>9.4</td>\n      <td>5</td>\n    </tr>\n  </tbody>\n</table>\n</div>"
     },
     "execution_count": 23,
     "metadata": {},
     "output_type": "execute_result"
    }
   ],
   "source": [
    "wine_df = pd.read_csv(\"data/original/winequality-red.csv\")\n",
    "wine_df.head()"
   ],
   "metadata": {
    "collapsed": false,
    "pycharm": {
     "name": "#%%\n"
    }
   }
  },
  {
   "cell_type": "code",
   "execution_count": 24,
   "outputs": [
    {
     "data": {
      "text/plain": "   fixed acidity  volatile acidity  citric acid  residual sugar  chlorides  \\\n0       0.465409          0.443038         0.00        0.122581   0.124386   \n1       0.490566          0.556962         0.00        0.167742   0.160393   \n2       0.490566          0.481013         0.04        0.148387   0.150573   \n3       0.704403          0.177215         0.56        0.122581   0.122750   \n4       0.465409          0.443038         0.00        0.122581   0.124386   \n\n   free sulfur dioxide  total sulfur dioxide   density        pH  sulphates  \\\n0             0.152778              0.117647  0.994132  0.875312      0.280   \n1             0.347222              0.231834  0.993135  0.798005      0.340   \n2             0.208333              0.186851  0.993335  0.812968      0.325   \n3             0.236111              0.207612  0.994331  0.788030      0.290   \n4             0.152778              0.117647  0.994132  0.875312      0.280   \n\n    alcohol  quality  \n0  0.630872        5  \n1  0.657718        5  \n2  0.657718        5  \n3  0.657718        6  \n4  0.630872        5  ",
      "text/html": "<div>\n<style scoped>\n    .dataframe tbody tr th:only-of-type {\n        vertical-align: middle;\n    }\n\n    .dataframe tbody tr th {\n        vertical-align: top;\n    }\n\n    .dataframe thead th {\n        text-align: right;\n    }\n</style>\n<table border=\"1\" class=\"dataframe\">\n  <thead>\n    <tr style=\"text-align: right;\">\n      <th></th>\n      <th>fixed acidity</th>\n      <th>volatile acidity</th>\n      <th>citric acid</th>\n      <th>residual sugar</th>\n      <th>chlorides</th>\n      <th>free sulfur dioxide</th>\n      <th>total sulfur dioxide</th>\n      <th>density</th>\n      <th>pH</th>\n      <th>sulphates</th>\n      <th>alcohol</th>\n      <th>quality</th>\n    </tr>\n  </thead>\n  <tbody>\n    <tr>\n      <th>0</th>\n      <td>0.465409</td>\n      <td>0.443038</td>\n      <td>0.00</td>\n      <td>0.122581</td>\n      <td>0.124386</td>\n      <td>0.152778</td>\n      <td>0.117647</td>\n      <td>0.994132</td>\n      <td>0.875312</td>\n      <td>0.280</td>\n      <td>0.630872</td>\n      <td>5</td>\n    </tr>\n    <tr>\n      <th>1</th>\n      <td>0.490566</td>\n      <td>0.556962</td>\n      <td>0.00</td>\n      <td>0.167742</td>\n      <td>0.160393</td>\n      <td>0.347222</td>\n      <td>0.231834</td>\n      <td>0.993135</td>\n      <td>0.798005</td>\n      <td>0.340</td>\n      <td>0.657718</td>\n      <td>5</td>\n    </tr>\n    <tr>\n      <th>2</th>\n      <td>0.490566</td>\n      <td>0.481013</td>\n      <td>0.04</td>\n      <td>0.148387</td>\n      <td>0.150573</td>\n      <td>0.208333</td>\n      <td>0.186851</td>\n      <td>0.993335</td>\n      <td>0.812968</td>\n      <td>0.325</td>\n      <td>0.657718</td>\n      <td>5</td>\n    </tr>\n    <tr>\n      <th>3</th>\n      <td>0.704403</td>\n      <td>0.177215</td>\n      <td>0.56</td>\n      <td>0.122581</td>\n      <td>0.122750</td>\n      <td>0.236111</td>\n      <td>0.207612</td>\n      <td>0.994331</td>\n      <td>0.788030</td>\n      <td>0.290</td>\n      <td>0.657718</td>\n      <td>6</td>\n    </tr>\n    <tr>\n      <th>4</th>\n      <td>0.465409</td>\n      <td>0.443038</td>\n      <td>0.00</td>\n      <td>0.122581</td>\n      <td>0.124386</td>\n      <td>0.152778</td>\n      <td>0.117647</td>\n      <td>0.994132</td>\n      <td>0.875312</td>\n      <td>0.280</td>\n      <td>0.630872</td>\n      <td>5</td>\n    </tr>\n  </tbody>\n</table>\n</div>"
     },
     "execution_count": 24,
     "metadata": {},
     "output_type": "execute_result"
    }
   ],
   "source": [
    "for col in wine_df.columns[:-1]:\n",
    "    wine_df[col] = wine_df[col] / wine_df[col].max()\n",
    "\n",
    "wine_df.head()"
   ],
   "metadata": {
    "collapsed": false,
    "pycharm": {
     "name": "#%%\n"
    }
   }
  },
  {
   "cell_type": "code",
   "execution_count": 31,
   "outputs": [
    {
     "data": {
      "text/plain": "5    681\n6    638\n7    199\n4     53\n8     18\n3     10\nName: quality, dtype: int64"
     },
     "execution_count": 31,
     "metadata": {},
     "output_type": "execute_result"
    }
   ],
   "source": [
    "wine_df['quality'].value_counts()"
   ],
   "metadata": {
    "collapsed": false,
    "pycharm": {
     "name": "#%%\n"
    }
   }
  },
  {
   "cell_type": "code",
   "execution_count": 35,
   "outputs": [],
   "source": [
    "wine_df = wine_df[wine_df['quality'].isin([5, 6, 7])]\n",
    "wine_df['quality'] -= 5"
   ],
   "metadata": {
    "collapsed": false,
    "pycharm": {
     "name": "#%%\n"
    }
   }
  },
  {
   "cell_type": "code",
   "execution_count": 36,
   "outputs": [
    {
     "data": {
      "text/plain": "0    681\n1    638\n2    199\nName: quality, dtype: int64"
     },
     "execution_count": 36,
     "metadata": {},
     "output_type": "execute_result"
    }
   ],
   "source": [
    "wine_df['quality'].value_counts()"
   ],
   "metadata": {
    "collapsed": false,
    "pycharm": {
     "name": "#%%\n"
    }
   }
  },
  {
   "cell_type": "code",
   "execution_count": null,
   "outputs": [],
   "source": [],
   "metadata": {
    "collapsed": false,
    "pycharm": {
     "name": "#%%\n"
    }
   }
  },
  {
   "cell_type": "code",
   "execution_count": 38,
   "outputs": [],
   "source": [
    "wine_df.to_csv('data/converted_wine_data.csv', index=False)"
   ],
   "metadata": {
    "collapsed": false,
    "pycharm": {
     "name": "#%%\n"
    }
   }
  },
  {
   "cell_type": "code",
   "execution_count": null,
   "outputs": [],
   "source": [],
   "metadata": {
    "collapsed": false,
    "pycharm": {
     "name": "#%%\n"
    }
   }
  }
 ],
 "metadata": {
  "kernelspec": {
   "display_name": "Python 3",
   "language": "python",
   "name": "python3"
  },
  "language_info": {
   "codemirror_mode": {
    "name": "ipython",
    "version": 2
   },
   "file_extension": ".py",
   "mimetype": "text/x-python",
   "name": "python",
   "nbconvert_exporter": "python",
   "pygments_lexer": "ipython2",
   "version": "2.7.6"
  }
 },
 "nbformat": 4,
 "nbformat_minor": 0
}