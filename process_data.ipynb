{
 "cells": [
  {
   "cell_type": "code",
   "execution_count": 2,
   "outputs": [],
   "source": [
    "import pandas as pd"
   ],
   "metadata": {
    "collapsed": false,
    "pycharm": {
     "name": "#%%\n"
    }
   }
  },
  {
   "cell_type": "markdown",
   "source": [
    "# Methods"
   ],
   "metadata": {
    "collapsed": false,
    "pycharm": {
     "name": "#%% md\n"
    }
   }
  },
  {
   "cell_type": "code",
   "execution_count": 3,
   "outputs": [],
   "source": [
    "def convert_data(df, label_name, expand=False):\n",
    "\n",
    "    new_df = df.copy()\n",
    "\n",
    "    categorical_cols = new_df.select_dtypes(include='object').columns\n",
    "    numeric_cols = new_df.select_dtypes(include=['int64', 'float64']).columns\n",
    "\n",
    "    # scale numeric values\n",
    "    for col in numeric_cols:\n",
    "        if col == label_name:\n",
    "            continue\n",
    "        # mix-max scaling\n",
    "        new_df[col] = (new_df[col] - new_df[col].min()) / (new_df[col].max() - new_df[col].min())\n",
    "\n",
    "    for col in categorical_cols:\n",
    "        if col == label_name:\n",
    "            continue\n",
    "\n",
    "        # use one hot for categorical features with more than 2 values\n",
    "        if expand is True:\n",
    "            unique_values = len(df[col].unique())\n",
    "            if unique_values == 2:\n",
    "                new_df[col] = pd.Categorical(new_df[col]).codes\n",
    "            elif unique_values > 2:\n",
    "                new_df = pd.get_dummies(new_df, columns=[col], prefix=col)\n",
    "\n",
    "        # use single column for categorical features\n",
    "        else:\n",
    "            new_df[col] = pd.Categorical(new_df[col]).codes\n",
    "\n",
    "    # convert label to integers and rearrange to start from 0\n",
    "    new_df[label_name] = pd.Categorical(new_df[label_name]).codes\n",
    "\n",
    "    # reorder columns\n",
    "    columns = [col for col in new_df.columns if col != label_name] + [label_name]\n",
    "    new_df = new_df[columns]\n",
    "\n",
    "    return new_df\n"
   ],
   "metadata": {
    "collapsed": false,
    "pycharm": {
     "name": "#%%\n"
    }
   }
  },
  {
   "cell_type": "code",
   "execution_count": 4,
   "outputs": [],
   "source": [
    "def show_label_balance(df, label_name):\n",
    "    label_counts = df[label_name].value_counts()\n",
    "    print(\"Label balance:\")\n",
    "    for label, count in label_counts.items():\n",
    "        print(f\"Label {label}: {count} ({count / len(df) * 100:.2f}%)\")"
   ],
   "metadata": {
    "collapsed": false,
    "pycharm": {
     "name": "#%%\n"
    }
   }
  },
  {
   "cell_type": "markdown",
   "source": [
    "### Summary"
   ],
   "metadata": {
    "collapsed": false,
    "pycharm": {
     "name": "#%% md\n"
    }
   }
  },
  {
   "cell_type": "code",
   "execution_count": null,
   "outputs": [],
   "source": [
    "datasets = []\n",
    "sizes = []"
   ],
   "metadata": {
    "collapsed": false,
    "pycharm": {
     "name": "#%%\n"
    }
   }
  },
  {
   "cell_type": "markdown",
   "source": [
    "# Data Convertion"
   ],
   "metadata": {
    "collapsed": false,
    "pycharm": {
     "name": "#%% md\n"
    }
   }
  },
  {
   "cell_type": "markdown",
   "source": [
    "### Apple Quality"
   ],
   "metadata": {
    "collapsed": false,
    "pycharm": {
     "name": "#%% md\n"
    }
   }
  },
  {
   "cell_type": "code",
   "execution_count": 120,
   "outputs": [
    {
     "data": {
      "text/plain": "       Size    Weight  Sweetness  Crunchiness  Juiciness  Ripeness   Acidity  \\\n0 -3.970049 -2.512336   5.346330    -1.012009   1.844900  0.329840 -0.491590   \n1 -1.195217 -2.839257   3.664059     1.588232   0.853286  0.867530 -0.722809   \n2 -0.292024 -1.351282  -1.738429    -0.342616   2.838636 -0.038033  2.621636   \n3 -0.657196 -2.271627   1.324874    -0.097875   3.637970 -3.413761  0.790723   \n4  1.364217 -1.296612  -0.384658    -0.553006   3.030874 -1.303849  0.501984   \n\n  Quality  \n0    good  \n1    good  \n2     bad  \n3    good  \n4    good  ",
      "text/html": "<div>\n<style scoped>\n    .dataframe tbody tr th:only-of-type {\n        vertical-align: middle;\n    }\n\n    .dataframe tbody tr th {\n        vertical-align: top;\n    }\n\n    .dataframe thead th {\n        text-align: right;\n    }\n</style>\n<table border=\"1\" class=\"dataframe\">\n  <thead>\n    <tr style=\"text-align: right;\">\n      <th></th>\n      <th>Size</th>\n      <th>Weight</th>\n      <th>Sweetness</th>\n      <th>Crunchiness</th>\n      <th>Juiciness</th>\n      <th>Ripeness</th>\n      <th>Acidity</th>\n      <th>Quality</th>\n    </tr>\n  </thead>\n  <tbody>\n    <tr>\n      <th>0</th>\n      <td>-3.970049</td>\n      <td>-2.512336</td>\n      <td>5.346330</td>\n      <td>-1.012009</td>\n      <td>1.844900</td>\n      <td>0.329840</td>\n      <td>-0.491590</td>\n      <td>good</td>\n    </tr>\n    <tr>\n      <th>1</th>\n      <td>-1.195217</td>\n      <td>-2.839257</td>\n      <td>3.664059</td>\n      <td>1.588232</td>\n      <td>0.853286</td>\n      <td>0.867530</td>\n      <td>-0.722809</td>\n      <td>good</td>\n    </tr>\n    <tr>\n      <th>2</th>\n      <td>-0.292024</td>\n      <td>-1.351282</td>\n      <td>-1.738429</td>\n      <td>-0.342616</td>\n      <td>2.838636</td>\n      <td>-0.038033</td>\n      <td>2.621636</td>\n      <td>bad</td>\n    </tr>\n    <tr>\n      <th>3</th>\n      <td>-0.657196</td>\n      <td>-2.271627</td>\n      <td>1.324874</td>\n      <td>-0.097875</td>\n      <td>3.637970</td>\n      <td>-3.413761</td>\n      <td>0.790723</td>\n      <td>good</td>\n    </tr>\n    <tr>\n      <th>4</th>\n      <td>1.364217</td>\n      <td>-1.296612</td>\n      <td>-0.384658</td>\n      <td>-0.553006</td>\n      <td>3.030874</td>\n      <td>-1.303849</td>\n      <td>0.501984</td>\n      <td>good</td>\n    </tr>\n  </tbody>\n</table>\n</div>"
     },
     "execution_count": 120,
     "metadata": {},
     "output_type": "execute_result"
    }
   ],
   "source": [
    "apple_df = pd.read_csv(\"data/classification/apple_quality.csv\")\n",
    "apple_df.drop('A_id', axis=1, inplace=True)\n",
    "apple_df.head()"
   ],
   "metadata": {
    "collapsed": false,
    "pycharm": {
     "name": "#%%\n"
    }
   }
  },
  {
   "cell_type": "code",
   "execution_count": 121,
   "outputs": [],
   "source": [
    "ready_apple_df = convert_data(apple_df, label_name='Quality', expand=False)"
   ],
   "metadata": {
    "collapsed": false,
    "pycharm": {
     "name": "#%%\n"
    }
   }
  },
  {
   "cell_type": "code",
   "execution_count": 122,
   "outputs": [
    {
     "data": {
      "text/plain": "       Size    Weight  Sweetness  Crunchiness  Juiciness  Ripeness   Acidity  \\\n0  0.234669  0.358370   0.922484     0.368781   0.585819  0.472770  0.452225   \n1  0.439331  0.333107   0.795706     0.558928   0.511408  0.513807  0.436185   \n2  0.505948  0.448092   0.388567     0.417732   0.660388  0.444693  0.668192   \n3  0.479014  0.376971   0.619422     0.435629   0.720370  0.187052  0.541180   \n4  0.628107  0.452317   0.490589     0.402347   0.674814  0.348084  0.521150   \n\n   Quality  \n0        1  \n1        1  \n2        0  \n3        1  \n4        1  ",
      "text/html": "<div>\n<style scoped>\n    .dataframe tbody tr th:only-of-type {\n        vertical-align: middle;\n    }\n\n    .dataframe tbody tr th {\n        vertical-align: top;\n    }\n\n    .dataframe thead th {\n        text-align: right;\n    }\n</style>\n<table border=\"1\" class=\"dataframe\">\n  <thead>\n    <tr style=\"text-align: right;\">\n      <th></th>\n      <th>Size</th>\n      <th>Weight</th>\n      <th>Sweetness</th>\n      <th>Crunchiness</th>\n      <th>Juiciness</th>\n      <th>Ripeness</th>\n      <th>Acidity</th>\n      <th>Quality</th>\n    </tr>\n  </thead>\n  <tbody>\n    <tr>\n      <th>0</th>\n      <td>0.234669</td>\n      <td>0.358370</td>\n      <td>0.922484</td>\n      <td>0.368781</td>\n      <td>0.585819</td>\n      <td>0.472770</td>\n      <td>0.452225</td>\n      <td>1</td>\n    </tr>\n    <tr>\n      <th>1</th>\n      <td>0.439331</td>\n      <td>0.333107</td>\n      <td>0.795706</td>\n      <td>0.558928</td>\n      <td>0.511408</td>\n      <td>0.513807</td>\n      <td>0.436185</td>\n      <td>1</td>\n    </tr>\n    <tr>\n      <th>2</th>\n      <td>0.505948</td>\n      <td>0.448092</td>\n      <td>0.388567</td>\n      <td>0.417732</td>\n      <td>0.660388</td>\n      <td>0.444693</td>\n      <td>0.668192</td>\n      <td>0</td>\n    </tr>\n    <tr>\n      <th>3</th>\n      <td>0.479014</td>\n      <td>0.376971</td>\n      <td>0.619422</td>\n      <td>0.435629</td>\n      <td>0.720370</td>\n      <td>0.187052</td>\n      <td>0.541180</td>\n      <td>1</td>\n    </tr>\n    <tr>\n      <th>4</th>\n      <td>0.628107</td>\n      <td>0.452317</td>\n      <td>0.490589</td>\n      <td>0.402347</td>\n      <td>0.674814</td>\n      <td>0.348084</td>\n      <td>0.521150</td>\n      <td>1</td>\n    </tr>\n  </tbody>\n</table>\n</div>"
     },
     "execution_count": 122,
     "metadata": {},
     "output_type": "execute_result"
    }
   ],
   "source": [
    "ready_apple_df.head()"
   ],
   "metadata": {
    "collapsed": false,
    "pycharm": {
     "name": "#%%\n"
    }
   }
  },
  {
   "cell_type": "code",
   "execution_count": 123,
   "outputs": [
    {
     "name": "stdout",
     "output_type": "stream",
     "text": [
      "Label balance:\n",
      "Label 1: 2004 (50.10%)\n",
      "Label 0: 1996 (49.90%)\n"
     ]
    }
   ],
   "source": [
    "show_label_balance(ready_apple_df, label_name='Quality')"
   ],
   "metadata": {
    "collapsed": false,
    "pycharm": {
     "name": "#%%\n"
    }
   }
  },
  {
   "cell_type": "code",
   "execution_count": 124,
   "outputs": [
    {
     "name": "stdout",
     "output_type": "stream",
     "text": [
      "data size = 4000\n"
     ]
    }
   ],
   "source": [
    "apple_size = len(ready_apple_df)\n",
    "print(f\"data size = {apple_size}\")"
   ],
   "metadata": {
    "collapsed": false,
    "pycharm": {
     "name": "#%%\n"
    }
   }
  },
  {
   "cell_type": "code",
   "execution_count": 125,
   "outputs": [],
   "source": [
    "datasets.append('apple')\n",
    "sizes.append(apple_size)"
   ],
   "metadata": {
    "collapsed": false,
    "pycharm": {
     "name": "#%%\n"
    }
   }
  },
  {
   "cell_type": "code",
   "execution_count": 126,
   "outputs": [],
   "source": [
    "ready_apple_df.to_csv(\"data/apple_data.csv\", index=False)"
   ],
   "metadata": {
    "collapsed": false,
    "pycharm": {
     "name": "#%%\n"
    }
   }
  },
  {
   "cell_type": "markdown",
   "source": [
    "### Loan Status"
   ],
   "metadata": {
    "collapsed": false,
    "pycharm": {
     "name": "#%% md\n"
    }
   }
  },
  {
   "cell_type": "code",
   "execution_count": 127,
   "outputs": [
    {
     "data": {
      "text/plain": "   person_age person_gender person_education  person_income  person_emp_exp  \\\n0        22.0        female           Master        71948.0               0   \n1        21.0        female      High School        12282.0               0   \n2        25.0        female      High School        12438.0               3   \n3        23.0        female         Bachelor        79753.0               0   \n4        24.0          male           Master        66135.0               1   \n\n  person_home_ownership  loan_amnt loan_intent  loan_int_rate  \\\n0                  RENT    35000.0    PERSONAL          16.02   \n1                   OWN     1000.0   EDUCATION          11.14   \n2              MORTGAGE     5500.0     MEDICAL          12.87   \n3                  RENT    35000.0     MEDICAL          15.23   \n4                  RENT    35000.0     MEDICAL          14.27   \n\n   loan_percent_income  cb_person_cred_hist_length  credit_score  \\\n0                 0.49                         3.0           561   \n1                 0.08                         2.0           504   \n2                 0.44                         3.0           635   \n3                 0.44                         2.0           675   \n4                 0.53                         4.0           586   \n\n  previous_loan_defaults_on_file  loan_status  \n0                             No            1  \n1                            Yes            0  \n2                             No            1  \n3                             No            1  \n4                             No            1  ",
      "text/html": "<div>\n<style scoped>\n    .dataframe tbody tr th:only-of-type {\n        vertical-align: middle;\n    }\n\n    .dataframe tbody tr th {\n        vertical-align: top;\n    }\n\n    .dataframe thead th {\n        text-align: right;\n    }\n</style>\n<table border=\"1\" class=\"dataframe\">\n  <thead>\n    <tr style=\"text-align: right;\">\n      <th></th>\n      <th>person_age</th>\n      <th>person_gender</th>\n      <th>person_education</th>\n      <th>person_income</th>\n      <th>person_emp_exp</th>\n      <th>person_home_ownership</th>\n      <th>loan_amnt</th>\n      <th>loan_intent</th>\n      <th>loan_int_rate</th>\n      <th>loan_percent_income</th>\n      <th>cb_person_cred_hist_length</th>\n      <th>credit_score</th>\n      <th>previous_loan_defaults_on_file</th>\n      <th>loan_status</th>\n    </tr>\n  </thead>\n  <tbody>\n    <tr>\n      <th>0</th>\n      <td>22.0</td>\n      <td>female</td>\n      <td>Master</td>\n      <td>71948.0</td>\n      <td>0</td>\n      <td>RENT</td>\n      <td>35000.0</td>\n      <td>PERSONAL</td>\n      <td>16.02</td>\n      <td>0.49</td>\n      <td>3.0</td>\n      <td>561</td>\n      <td>No</td>\n      <td>1</td>\n    </tr>\n    <tr>\n      <th>1</th>\n      <td>21.0</td>\n      <td>female</td>\n      <td>High School</td>\n      <td>12282.0</td>\n      <td>0</td>\n      <td>OWN</td>\n      <td>1000.0</td>\n      <td>EDUCATION</td>\n      <td>11.14</td>\n      <td>0.08</td>\n      <td>2.0</td>\n      <td>504</td>\n      <td>Yes</td>\n      <td>0</td>\n    </tr>\n    <tr>\n      <th>2</th>\n      <td>25.0</td>\n      <td>female</td>\n      <td>High School</td>\n      <td>12438.0</td>\n      <td>3</td>\n      <td>MORTGAGE</td>\n      <td>5500.0</td>\n      <td>MEDICAL</td>\n      <td>12.87</td>\n      <td>0.44</td>\n      <td>3.0</td>\n      <td>635</td>\n      <td>No</td>\n      <td>1</td>\n    </tr>\n    <tr>\n      <th>3</th>\n      <td>23.0</td>\n      <td>female</td>\n      <td>Bachelor</td>\n      <td>79753.0</td>\n      <td>0</td>\n      <td>RENT</td>\n      <td>35000.0</td>\n      <td>MEDICAL</td>\n      <td>15.23</td>\n      <td>0.44</td>\n      <td>2.0</td>\n      <td>675</td>\n      <td>No</td>\n      <td>1</td>\n    </tr>\n    <tr>\n      <th>4</th>\n      <td>24.0</td>\n      <td>male</td>\n      <td>Master</td>\n      <td>66135.0</td>\n      <td>1</td>\n      <td>RENT</td>\n      <td>35000.0</td>\n      <td>MEDICAL</td>\n      <td>14.27</td>\n      <td>0.53</td>\n      <td>4.0</td>\n      <td>586</td>\n      <td>No</td>\n      <td>1</td>\n    </tr>\n  </tbody>\n</table>\n</div>"
     },
     "execution_count": 127,
     "metadata": {},
     "output_type": "execute_result"
    }
   ],
   "source": [
    "loan_df = pd.read_csv(\"data/classification/loan_data.csv\")\n",
    "loan_df.head()"
   ],
   "metadata": {
    "collapsed": false,
    "pycharm": {
     "name": "#%%\n"
    }
   }
  },
  {
   "cell_type": "code",
   "execution_count": 128,
   "outputs": [],
   "source": [
    "ready_loan_df = convert_data(loan_df, label_name='loan_status', expand=False)"
   ],
   "metadata": {
    "collapsed": false,
    "pycharm": {
     "name": "#%%\n"
    }
   }
  },
  {
   "cell_type": "code",
   "execution_count": 129,
   "outputs": [
    {
     "data": {
      "text/plain": "   person_age  person_gender  person_education  person_income  person_emp_exp  \\\n0    0.016129              0                 4       0.008891           0.000   \n1    0.008065              0                 3       0.000595           0.000   \n2    0.040323              0                 3       0.000617           0.024   \n3    0.024194              0                 1       0.009976           0.000   \n4    0.032258              1                 4       0.008082           0.008   \n\n   person_home_ownership  loan_amnt  loan_intent  loan_int_rate  \\\n0                      3   1.000000            4       0.727023   \n1                      2   0.014493            1       0.392318   \n2                      0   0.144928            3       0.510974   \n3                      3   1.000000            3       0.672840   \n4                      3   1.000000            3       0.606996   \n\n   loan_percent_income  cb_person_cred_hist_length  credit_score  \\\n0             0.742424                    0.035714      0.371739   \n1             0.121212                    0.000000      0.247826   \n2             0.666667                    0.035714      0.532609   \n3             0.666667                    0.000000      0.619565   \n4             0.803030                    0.071429      0.426087   \n\n   previous_loan_defaults_on_file  loan_status  \n0                               0            1  \n1                               1            0  \n2                               0            1  \n3                               0            1  \n4                               0            1  ",
      "text/html": "<div>\n<style scoped>\n    .dataframe tbody tr th:only-of-type {\n        vertical-align: middle;\n    }\n\n    .dataframe tbody tr th {\n        vertical-align: top;\n    }\n\n    .dataframe thead th {\n        text-align: right;\n    }\n</style>\n<table border=\"1\" class=\"dataframe\">\n  <thead>\n    <tr style=\"text-align: right;\">\n      <th></th>\n      <th>person_age</th>\n      <th>person_gender</th>\n      <th>person_education</th>\n      <th>person_income</th>\n      <th>person_emp_exp</th>\n      <th>person_home_ownership</th>\n      <th>loan_amnt</th>\n      <th>loan_intent</th>\n      <th>loan_int_rate</th>\n      <th>loan_percent_income</th>\n      <th>cb_person_cred_hist_length</th>\n      <th>credit_score</th>\n      <th>previous_loan_defaults_on_file</th>\n      <th>loan_status</th>\n    </tr>\n  </thead>\n  <tbody>\n    <tr>\n      <th>0</th>\n      <td>0.016129</td>\n      <td>0</td>\n      <td>4</td>\n      <td>0.008891</td>\n      <td>0.000</td>\n      <td>3</td>\n      <td>1.000000</td>\n      <td>4</td>\n      <td>0.727023</td>\n      <td>0.742424</td>\n      <td>0.035714</td>\n      <td>0.371739</td>\n      <td>0</td>\n      <td>1</td>\n    </tr>\n    <tr>\n      <th>1</th>\n      <td>0.008065</td>\n      <td>0</td>\n      <td>3</td>\n      <td>0.000595</td>\n      <td>0.000</td>\n      <td>2</td>\n      <td>0.014493</td>\n      <td>1</td>\n      <td>0.392318</td>\n      <td>0.121212</td>\n      <td>0.000000</td>\n      <td>0.247826</td>\n      <td>1</td>\n      <td>0</td>\n    </tr>\n    <tr>\n      <th>2</th>\n      <td>0.040323</td>\n      <td>0</td>\n      <td>3</td>\n      <td>0.000617</td>\n      <td>0.024</td>\n      <td>0</td>\n      <td>0.144928</td>\n      <td>3</td>\n      <td>0.510974</td>\n      <td>0.666667</td>\n      <td>0.035714</td>\n      <td>0.532609</td>\n      <td>0</td>\n      <td>1</td>\n    </tr>\n    <tr>\n      <th>3</th>\n      <td>0.024194</td>\n      <td>0</td>\n      <td>1</td>\n      <td>0.009976</td>\n      <td>0.000</td>\n      <td>3</td>\n      <td>1.000000</td>\n      <td>3</td>\n      <td>0.672840</td>\n      <td>0.666667</td>\n      <td>0.000000</td>\n      <td>0.619565</td>\n      <td>0</td>\n      <td>1</td>\n    </tr>\n    <tr>\n      <th>4</th>\n      <td>0.032258</td>\n      <td>1</td>\n      <td>4</td>\n      <td>0.008082</td>\n      <td>0.008</td>\n      <td>3</td>\n      <td>1.000000</td>\n      <td>3</td>\n      <td>0.606996</td>\n      <td>0.803030</td>\n      <td>0.071429</td>\n      <td>0.426087</td>\n      <td>0</td>\n      <td>1</td>\n    </tr>\n  </tbody>\n</table>\n</div>"
     },
     "execution_count": 129,
     "metadata": {},
     "output_type": "execute_result"
    }
   ],
   "source": [
    "ready_loan_df.head()"
   ],
   "metadata": {
    "collapsed": false,
    "pycharm": {
     "name": "#%%\n"
    }
   }
  },
  {
   "cell_type": "code",
   "execution_count": 130,
   "outputs": [
    {
     "name": "stdout",
     "output_type": "stream",
     "text": [
      "Label balance:\n",
      "Label 0: 35000 (77.78%)\n",
      "Label 1: 10000 (22.22%)\n"
     ]
    }
   ],
   "source": [
    "show_label_balance(ready_loan_df, label_name='loan_status')"
   ],
   "metadata": {
    "collapsed": false,
    "pycharm": {
     "name": "#%%\n"
    }
   }
  },
  {
   "cell_type": "code",
   "execution_count": 131,
   "outputs": [
    {
     "name": "stdout",
     "output_type": "stream",
     "text": [
      "data size = 45000\n"
     ]
    }
   ],
   "source": [
    "loan_size = len(ready_loan_df)\n",
    "print(f\"data size = {loan_size}\")"
   ],
   "metadata": {
    "collapsed": false,
    "pycharm": {
     "name": "#%%\n"
    }
   }
  },
  {
   "cell_type": "code",
   "execution_count": 132,
   "outputs": [],
   "source": [
    "datasets.append('loan')\n",
    "sizes.append(loan_size)"
   ],
   "metadata": {
    "collapsed": false,
    "pycharm": {
     "name": "#%%\n"
    }
   }
  },
  {
   "cell_type": "code",
   "execution_count": 133,
   "outputs": [],
   "source": [
    "ready_loan_df.to_csv(\"data/loan_data.csv\", index=False)"
   ],
   "metadata": {
    "collapsed": false,
    "pycharm": {
     "name": "#%%\n"
    }
   }
  },
  {
   "cell_type": "markdown",
   "source": [
    "### Wine Quality"
   ],
   "metadata": {
    "collapsed": false,
    "pycharm": {
     "name": "#%% md\n"
    }
   }
  },
  {
   "cell_type": "code",
   "execution_count": 134,
   "outputs": [
    {
     "data": {
      "text/plain": "   fixed acidity  volatile acidity  citric acid  residual sugar  chlorides  \\\n0            7.4              0.70         0.00             1.9      0.076   \n1            7.8              0.88         0.00             2.6      0.098   \n2            7.8              0.76         0.04             2.3      0.092   \n3           11.2              0.28         0.56             1.9      0.075   \n4            7.4              0.70         0.00             1.9      0.076   \n\n   free sulfur dioxide  total sulfur dioxide  density    pH  sulphates  \\\n0                 11.0                  34.0   0.9978  3.51       0.56   \n1                 25.0                  67.0   0.9968  3.20       0.68   \n2                 15.0                  54.0   0.9970  3.26       0.65   \n3                 17.0                  60.0   0.9980  3.16       0.58   \n4                 11.0                  34.0   0.9978  3.51       0.56   \n\n   alcohol  quality  \n0      9.4        5  \n1      9.8        5  \n2      9.8        5  \n3      9.8        6  \n4      9.4        5  ",
      "text/html": "<div>\n<style scoped>\n    .dataframe tbody tr th:only-of-type {\n        vertical-align: middle;\n    }\n\n    .dataframe tbody tr th {\n        vertical-align: top;\n    }\n\n    .dataframe thead th {\n        text-align: right;\n    }\n</style>\n<table border=\"1\" class=\"dataframe\">\n  <thead>\n    <tr style=\"text-align: right;\">\n      <th></th>\n      <th>fixed acidity</th>\n      <th>volatile acidity</th>\n      <th>citric acid</th>\n      <th>residual sugar</th>\n      <th>chlorides</th>\n      <th>free sulfur dioxide</th>\n      <th>total sulfur dioxide</th>\n      <th>density</th>\n      <th>pH</th>\n      <th>sulphates</th>\n      <th>alcohol</th>\n      <th>quality</th>\n    </tr>\n  </thead>\n  <tbody>\n    <tr>\n      <th>0</th>\n      <td>7.4</td>\n      <td>0.70</td>\n      <td>0.00</td>\n      <td>1.9</td>\n      <td>0.076</td>\n      <td>11.0</td>\n      <td>34.0</td>\n      <td>0.9978</td>\n      <td>3.51</td>\n      <td>0.56</td>\n      <td>9.4</td>\n      <td>5</td>\n    </tr>\n    <tr>\n      <th>1</th>\n      <td>7.8</td>\n      <td>0.88</td>\n      <td>0.00</td>\n      <td>2.6</td>\n      <td>0.098</td>\n      <td>25.0</td>\n      <td>67.0</td>\n      <td>0.9968</td>\n      <td>3.20</td>\n      <td>0.68</td>\n      <td>9.8</td>\n      <td>5</td>\n    </tr>\n    <tr>\n      <th>2</th>\n      <td>7.8</td>\n      <td>0.76</td>\n      <td>0.04</td>\n      <td>2.3</td>\n      <td>0.092</td>\n      <td>15.0</td>\n      <td>54.0</td>\n      <td>0.9970</td>\n      <td>3.26</td>\n      <td>0.65</td>\n      <td>9.8</td>\n      <td>5</td>\n    </tr>\n    <tr>\n      <th>3</th>\n      <td>11.2</td>\n      <td>0.28</td>\n      <td>0.56</td>\n      <td>1.9</td>\n      <td>0.075</td>\n      <td>17.0</td>\n      <td>60.0</td>\n      <td>0.9980</td>\n      <td>3.16</td>\n      <td>0.58</td>\n      <td>9.8</td>\n      <td>6</td>\n    </tr>\n    <tr>\n      <th>4</th>\n      <td>7.4</td>\n      <td>0.70</td>\n      <td>0.00</td>\n      <td>1.9</td>\n      <td>0.076</td>\n      <td>11.0</td>\n      <td>34.0</td>\n      <td>0.9978</td>\n      <td>3.51</td>\n      <td>0.56</td>\n      <td>9.4</td>\n      <td>5</td>\n    </tr>\n  </tbody>\n</table>\n</div>"
     },
     "execution_count": 134,
     "metadata": {},
     "output_type": "execute_result"
    }
   ],
   "source": [
    "wine_df = pd.read_csv(\"data/classification/wine_quality.csv\")\n",
    "wine_df.head()"
   ],
   "metadata": {
    "collapsed": false,
    "pycharm": {
     "name": "#%%\n"
    }
   }
  },
  {
   "cell_type": "code",
   "execution_count": 135,
   "outputs": [],
   "source": [
    "# keep only certain qualities\n",
    "labels_to_keep = [5, 6, 7]\n",
    "wine_df = wine_df[wine_df['quality'].isin(labels_to_keep)]"
   ],
   "metadata": {
    "collapsed": false,
    "pycharm": {
     "name": "#%%\n"
    }
   }
  },
  {
   "cell_type": "code",
   "execution_count": 136,
   "outputs": [],
   "source": [
    "ready_wine_df = convert_data(wine_df, label_name='quality', expand=False)"
   ],
   "metadata": {
    "collapsed": false,
    "pycharm": {
     "name": "#%%\n"
    }
   }
  },
  {
   "cell_type": "code",
   "execution_count": 137,
   "outputs": [
    {
     "data": {
      "text/plain": "   fixed acidity  volatile acidity  citric acid  residual sugar  chlorides  \\\n0       0.241071          0.479339     0.000000        0.068493   0.106845   \n1       0.276786          0.628099     0.000000        0.116438   0.143573   \n2       0.276786          0.528926     0.050633        0.095890   0.133556   \n3       0.580357          0.132231     0.708861        0.068493   0.105175   \n4       0.241071          0.479339     0.000000        0.068493   0.106845   \n\n   free sulfur dioxide  total sulfur dioxide   density        pH  sulphates  \\\n0             0.140845              0.098940  0.567548  0.565217   0.118012   \n1             0.338028              0.215548  0.494126  0.295652   0.192547   \n2             0.197183              0.169611  0.508811  0.347826   0.173913   \n3             0.225352              0.190813  0.582232  0.260870   0.130435   \n4             0.140845              0.098940  0.567548  0.565217   0.118012   \n\n    alcohol  quality  \n0  0.153846        0  \n1  0.215385        0  \n2  0.215385        0  \n3  0.215385        1  \n4  0.153846        0  ",
      "text/html": "<div>\n<style scoped>\n    .dataframe tbody tr th:only-of-type {\n        vertical-align: middle;\n    }\n\n    .dataframe tbody tr th {\n        vertical-align: top;\n    }\n\n    .dataframe thead th {\n        text-align: right;\n    }\n</style>\n<table border=\"1\" class=\"dataframe\">\n  <thead>\n    <tr style=\"text-align: right;\">\n      <th></th>\n      <th>fixed acidity</th>\n      <th>volatile acidity</th>\n      <th>citric acid</th>\n      <th>residual sugar</th>\n      <th>chlorides</th>\n      <th>free sulfur dioxide</th>\n      <th>total sulfur dioxide</th>\n      <th>density</th>\n      <th>pH</th>\n      <th>sulphates</th>\n      <th>alcohol</th>\n      <th>quality</th>\n    </tr>\n  </thead>\n  <tbody>\n    <tr>\n      <th>0</th>\n      <td>0.241071</td>\n      <td>0.479339</td>\n      <td>0.000000</td>\n      <td>0.068493</td>\n      <td>0.106845</td>\n      <td>0.140845</td>\n      <td>0.098940</td>\n      <td>0.567548</td>\n      <td>0.565217</td>\n      <td>0.118012</td>\n      <td>0.153846</td>\n      <td>0</td>\n    </tr>\n    <tr>\n      <th>1</th>\n      <td>0.276786</td>\n      <td>0.628099</td>\n      <td>0.000000</td>\n      <td>0.116438</td>\n      <td>0.143573</td>\n      <td>0.338028</td>\n      <td>0.215548</td>\n      <td>0.494126</td>\n      <td>0.295652</td>\n      <td>0.192547</td>\n      <td>0.215385</td>\n      <td>0</td>\n    </tr>\n    <tr>\n      <th>2</th>\n      <td>0.276786</td>\n      <td>0.528926</td>\n      <td>0.050633</td>\n      <td>0.095890</td>\n      <td>0.133556</td>\n      <td>0.197183</td>\n      <td>0.169611</td>\n      <td>0.508811</td>\n      <td>0.347826</td>\n      <td>0.173913</td>\n      <td>0.215385</td>\n      <td>0</td>\n    </tr>\n    <tr>\n      <th>3</th>\n      <td>0.580357</td>\n      <td>0.132231</td>\n      <td>0.708861</td>\n      <td>0.068493</td>\n      <td>0.105175</td>\n      <td>0.225352</td>\n      <td>0.190813</td>\n      <td>0.582232</td>\n      <td>0.260870</td>\n      <td>0.130435</td>\n      <td>0.215385</td>\n      <td>1</td>\n    </tr>\n    <tr>\n      <th>4</th>\n      <td>0.241071</td>\n      <td>0.479339</td>\n      <td>0.000000</td>\n      <td>0.068493</td>\n      <td>0.106845</td>\n      <td>0.140845</td>\n      <td>0.098940</td>\n      <td>0.567548</td>\n      <td>0.565217</td>\n      <td>0.118012</td>\n      <td>0.153846</td>\n      <td>0</td>\n    </tr>\n  </tbody>\n</table>\n</div>"
     },
     "execution_count": 137,
     "metadata": {},
     "output_type": "execute_result"
    }
   ],
   "source": [
    "ready_wine_df.head()"
   ],
   "metadata": {
    "collapsed": false,
    "pycharm": {
     "name": "#%%\n"
    }
   }
  },
  {
   "cell_type": "code",
   "execution_count": 138,
   "outputs": [
    {
     "name": "stdout",
     "output_type": "stream",
     "text": [
      "Label balance:\n",
      "Label 0: 681 (44.86%)\n",
      "Label 1: 638 (42.03%)\n",
      "Label 2: 199 (13.11%)\n"
     ]
    }
   ],
   "source": [
    "show_label_balance(ready_wine_df, label_name='quality')"
   ],
   "metadata": {
    "collapsed": false,
    "pycharm": {
     "name": "#%%\n"
    }
   }
  },
  {
   "cell_type": "code",
   "execution_count": 139,
   "outputs": [
    {
     "name": "stdout",
     "output_type": "stream",
     "text": [
      "data size = 1518\n"
     ]
    }
   ],
   "source": [
    "wine_size = len(ready_wine_df)\n",
    "print(f\"data size = {wine_size}\")"
   ],
   "metadata": {
    "collapsed": false,
    "pycharm": {
     "name": "#%%\n"
    }
   }
  },
  {
   "cell_type": "code",
   "execution_count": 140,
   "outputs": [],
   "source": [
    "datasets.append('wine')\n",
    "sizes.append(wine_size)"
   ],
   "metadata": {
    "collapsed": false,
    "pycharm": {
     "name": "#%%\n"
    }
   }
  },
  {
   "cell_type": "code",
   "execution_count": 141,
   "outputs": [],
   "source": [
    "ready_wine_df.to_csv(\"data/wine_data.csv\", index=False)"
   ],
   "metadata": {
    "collapsed": false,
    "pycharm": {
     "name": "#%%\n"
    }
   }
  },
  {
   "cell_type": "markdown",
   "source": [
    "### Diabetes"
   ],
   "metadata": {
    "collapsed": false,
    "pycharm": {
     "name": "#%% md\n"
    }
   }
  },
  {
   "cell_type": "code",
   "execution_count": 142,
   "outputs": [
    {
     "data": {
      "text/plain": "  General_Health                  Checkup Exercise Heart_Disease Skin_Cancer  \\\n0           Poor  Within the past 2 years       No            No          No   \n1      Very Good     Within the past year       No           Yes          No   \n2      Very Good     Within the past year      Yes            No          No   \n3           Poor     Within the past year      Yes           Yes          No   \n4           Good     Within the past year       No            No          No   \n\n  Other_Cancer Depression Diabetes Arthritis     Sex Age_Category  \\\n0           No         No       No       Yes  Female        70-74   \n1           No         No      Yes        No  Female        70-74   \n2           No         No      Yes        No  Female        60-64   \n3           No         No      Yes        No    Male        75-79   \n4           No         No       No        No    Male          80+   \n\n   Height_(cm)  Weight_(kg)    BMI Smoking_History  Alcohol_Consumption  \\\n0        150.0        32.66  14.54             Yes                  0.0   \n1        165.0        77.11  28.29              No                  0.0   \n2        163.0        88.45  33.47              No                  4.0   \n3        180.0        93.44  28.73              No                  0.0   \n4        191.0        88.45  24.37             Yes                  0.0   \n\n   Fruit_Consumption  Green_Vegetables_Consumption  FriedPotato_Consumption  \n0               30.0                          16.0                     12.0  \n1               30.0                           0.0                      4.0  \n2               12.0                           3.0                     16.0  \n3               30.0                          30.0                      8.0  \n4                8.0                           4.0                      0.0  ",
      "text/html": "<div>\n<style scoped>\n    .dataframe tbody tr th:only-of-type {\n        vertical-align: middle;\n    }\n\n    .dataframe tbody tr th {\n        vertical-align: top;\n    }\n\n    .dataframe thead th {\n        text-align: right;\n    }\n</style>\n<table border=\"1\" class=\"dataframe\">\n  <thead>\n    <tr style=\"text-align: right;\">\n      <th></th>\n      <th>General_Health</th>\n      <th>Checkup</th>\n      <th>Exercise</th>\n      <th>Heart_Disease</th>\n      <th>Skin_Cancer</th>\n      <th>Other_Cancer</th>\n      <th>Depression</th>\n      <th>Diabetes</th>\n      <th>Arthritis</th>\n      <th>Sex</th>\n      <th>Age_Category</th>\n      <th>Height_(cm)</th>\n      <th>Weight_(kg)</th>\n      <th>BMI</th>\n      <th>Smoking_History</th>\n      <th>Alcohol_Consumption</th>\n      <th>Fruit_Consumption</th>\n      <th>Green_Vegetables_Consumption</th>\n      <th>FriedPotato_Consumption</th>\n    </tr>\n  </thead>\n  <tbody>\n    <tr>\n      <th>0</th>\n      <td>Poor</td>\n      <td>Within the past 2 years</td>\n      <td>No</td>\n      <td>No</td>\n      <td>No</td>\n      <td>No</td>\n      <td>No</td>\n      <td>No</td>\n      <td>Yes</td>\n      <td>Female</td>\n      <td>70-74</td>\n      <td>150.0</td>\n      <td>32.66</td>\n      <td>14.54</td>\n      <td>Yes</td>\n      <td>0.0</td>\n      <td>30.0</td>\n      <td>16.0</td>\n      <td>12.0</td>\n    </tr>\n    <tr>\n      <th>1</th>\n      <td>Very Good</td>\n      <td>Within the past year</td>\n      <td>No</td>\n      <td>Yes</td>\n      <td>No</td>\n      <td>No</td>\n      <td>No</td>\n      <td>Yes</td>\n      <td>No</td>\n      <td>Female</td>\n      <td>70-74</td>\n      <td>165.0</td>\n      <td>77.11</td>\n      <td>28.29</td>\n      <td>No</td>\n      <td>0.0</td>\n      <td>30.0</td>\n      <td>0.0</td>\n      <td>4.0</td>\n    </tr>\n    <tr>\n      <th>2</th>\n      <td>Very Good</td>\n      <td>Within the past year</td>\n      <td>Yes</td>\n      <td>No</td>\n      <td>No</td>\n      <td>No</td>\n      <td>No</td>\n      <td>Yes</td>\n      <td>No</td>\n      <td>Female</td>\n      <td>60-64</td>\n      <td>163.0</td>\n      <td>88.45</td>\n      <td>33.47</td>\n      <td>No</td>\n      <td>4.0</td>\n      <td>12.0</td>\n      <td>3.0</td>\n      <td>16.0</td>\n    </tr>\n    <tr>\n      <th>3</th>\n      <td>Poor</td>\n      <td>Within the past year</td>\n      <td>Yes</td>\n      <td>Yes</td>\n      <td>No</td>\n      <td>No</td>\n      <td>No</td>\n      <td>Yes</td>\n      <td>No</td>\n      <td>Male</td>\n      <td>75-79</td>\n      <td>180.0</td>\n      <td>93.44</td>\n      <td>28.73</td>\n      <td>No</td>\n      <td>0.0</td>\n      <td>30.0</td>\n      <td>30.0</td>\n      <td>8.0</td>\n    </tr>\n    <tr>\n      <th>4</th>\n      <td>Good</td>\n      <td>Within the past year</td>\n      <td>No</td>\n      <td>No</td>\n      <td>No</td>\n      <td>No</td>\n      <td>No</td>\n      <td>No</td>\n      <td>No</td>\n      <td>Male</td>\n      <td>80+</td>\n      <td>191.0</td>\n      <td>88.45</td>\n      <td>24.37</td>\n      <td>Yes</td>\n      <td>0.0</td>\n      <td>8.0</td>\n      <td>4.0</td>\n      <td>0.0</td>\n    </tr>\n  </tbody>\n</table>\n</div>"
     },
     "execution_count": 142,
     "metadata": {},
     "output_type": "execute_result"
    }
   ],
   "source": [
    "diabetes_df = pd.read_csv(r\"data/classification/diabetes.csv\")\n",
    "diabetes_df.head()"
   ],
   "metadata": {
    "collapsed": false,
    "pycharm": {
     "name": "#%%\n"
    }
   }
  },
  {
   "cell_type": "code",
   "execution_count": 143,
   "outputs": [],
   "source": [
    "# keep only certain qualities\n",
    "labels_to_keep = ['Yes', 'No']\n",
    "diabetes_df = diabetes_df[diabetes_df['Diabetes'].isin(labels_to_keep)]"
   ],
   "metadata": {
    "collapsed": false,
    "pycharm": {
     "name": "#%%\n"
    }
   }
  },
  {
   "cell_type": "code",
   "execution_count": 144,
   "outputs": [],
   "source": [
    "ready_diabetes_df = convert_data(diabetes_df, label_name='Diabetes', expand=False)"
   ],
   "metadata": {
    "collapsed": false,
    "pycharm": {
     "name": "#%%\n"
    }
   }
  },
  {
   "cell_type": "code",
   "execution_count": 145,
   "outputs": [
    {
     "data": {
      "text/plain": "   General_Health  Checkup  Exercise  Heart_Disease  Skin_Cancer  \\\n0               3        2         0              0            0   \n1               4        4         0              1            0   \n2               4        4         1              0            0   \n3               3        4         1              1            0   \n4               2        4         0              0            0   \n\n   Other_Cancer  Depression  Arthritis  Sex  Age_Category  Height_(cm)  \\\n0             0           0          1    0            10     0.393333   \n1             0           0          0    0            10     0.493333   \n2             0           0          0    0             8     0.480000   \n3             0           0          0    1            11     0.593333   \n4             0           0          0    1            12     0.666667   \n\n   Weight_(kg)       BMI  Smoking_History  Alcohol_Consumption  \\\n0     0.028761  0.028863                1             0.000000   \n1     0.194576  0.186347                0             0.000000   \n2     0.236878  0.245676                0             0.133333   \n3     0.255493  0.191387                0             0.000000   \n4     0.236878  0.141450                1             0.000000   \n\n   Fruit_Consumption  Green_Vegetables_Consumption  FriedPotato_Consumption  \\\n0           0.250000                      0.125000                  0.09375   \n1           0.250000                      0.000000                  0.03125   \n2           0.100000                      0.023438                  0.12500   \n3           0.250000                      0.234375                  0.06250   \n4           0.066667                      0.031250                  0.00000   \n\n   Diabetes  \n0         0  \n1         1  \n2         1  \n3         1  \n4         0  ",
      "text/html": "<div>\n<style scoped>\n    .dataframe tbody tr th:only-of-type {\n        vertical-align: middle;\n    }\n\n    .dataframe tbody tr th {\n        vertical-align: top;\n    }\n\n    .dataframe thead th {\n        text-align: right;\n    }\n</style>\n<table border=\"1\" class=\"dataframe\">\n  <thead>\n    <tr style=\"text-align: right;\">\n      <th></th>\n      <th>General_Health</th>\n      <th>Checkup</th>\n      <th>Exercise</th>\n      <th>Heart_Disease</th>\n      <th>Skin_Cancer</th>\n      <th>Other_Cancer</th>\n      <th>Depression</th>\n      <th>Arthritis</th>\n      <th>Sex</th>\n      <th>Age_Category</th>\n      <th>Height_(cm)</th>\n      <th>Weight_(kg)</th>\n      <th>BMI</th>\n      <th>Smoking_History</th>\n      <th>Alcohol_Consumption</th>\n      <th>Fruit_Consumption</th>\n      <th>Green_Vegetables_Consumption</th>\n      <th>FriedPotato_Consumption</th>\n      <th>Diabetes</th>\n    </tr>\n  </thead>\n  <tbody>\n    <tr>\n      <th>0</th>\n      <td>3</td>\n      <td>2</td>\n      <td>0</td>\n      <td>0</td>\n      <td>0</td>\n      <td>0</td>\n      <td>0</td>\n      <td>1</td>\n      <td>0</td>\n      <td>10</td>\n      <td>0.393333</td>\n      <td>0.028761</td>\n      <td>0.028863</td>\n      <td>1</td>\n      <td>0.000000</td>\n      <td>0.250000</td>\n      <td>0.125000</td>\n      <td>0.09375</td>\n      <td>0</td>\n    </tr>\n    <tr>\n      <th>1</th>\n      <td>4</td>\n      <td>4</td>\n      <td>0</td>\n      <td>1</td>\n      <td>0</td>\n      <td>0</td>\n      <td>0</td>\n      <td>0</td>\n      <td>0</td>\n      <td>10</td>\n      <td>0.493333</td>\n      <td>0.194576</td>\n      <td>0.186347</td>\n      <td>0</td>\n      <td>0.000000</td>\n      <td>0.250000</td>\n      <td>0.000000</td>\n      <td>0.03125</td>\n      <td>1</td>\n    </tr>\n    <tr>\n      <th>2</th>\n      <td>4</td>\n      <td>4</td>\n      <td>1</td>\n      <td>0</td>\n      <td>0</td>\n      <td>0</td>\n      <td>0</td>\n      <td>0</td>\n      <td>0</td>\n      <td>8</td>\n      <td>0.480000</td>\n      <td>0.236878</td>\n      <td>0.245676</td>\n      <td>0</td>\n      <td>0.133333</td>\n      <td>0.100000</td>\n      <td>0.023438</td>\n      <td>0.12500</td>\n      <td>1</td>\n    </tr>\n    <tr>\n      <th>3</th>\n      <td>3</td>\n      <td>4</td>\n      <td>1</td>\n      <td>1</td>\n      <td>0</td>\n      <td>0</td>\n      <td>0</td>\n      <td>0</td>\n      <td>1</td>\n      <td>11</td>\n      <td>0.593333</td>\n      <td>0.255493</td>\n      <td>0.191387</td>\n      <td>0</td>\n      <td>0.000000</td>\n      <td>0.250000</td>\n      <td>0.234375</td>\n      <td>0.06250</td>\n      <td>1</td>\n    </tr>\n    <tr>\n      <th>4</th>\n      <td>2</td>\n      <td>4</td>\n      <td>0</td>\n      <td>0</td>\n      <td>0</td>\n      <td>0</td>\n      <td>0</td>\n      <td>0</td>\n      <td>1</td>\n      <td>12</td>\n      <td>0.666667</td>\n      <td>0.236878</td>\n      <td>0.141450</td>\n      <td>1</td>\n      <td>0.000000</td>\n      <td>0.066667</td>\n      <td>0.031250</td>\n      <td>0.00000</td>\n      <td>0</td>\n    </tr>\n  </tbody>\n</table>\n</div>"
     },
     "execution_count": 145,
     "metadata": {},
     "output_type": "execute_result"
    }
   ],
   "source": [
    "ready_diabetes_df.head()"
   ],
   "metadata": {
    "collapsed": false,
    "pycharm": {
     "name": "#%%\n"
    }
   }
  },
  {
   "cell_type": "code",
   "execution_count": 146,
   "outputs": [
    {
     "name": "stdout",
     "output_type": "stream",
     "text": [
      "Label balance:\n",
      "Label 0: 259141 (86.58%)\n",
      "Label 1: 40171 (13.42%)\n"
     ]
    }
   ],
   "source": [
    "show_label_balance(ready_diabetes_df, label_name='Diabetes')"
   ],
   "metadata": {
    "collapsed": false,
    "pycharm": {
     "name": "#%%\n"
    }
   }
  },
  {
   "cell_type": "code",
   "execution_count": 147,
   "outputs": [
    {
     "name": "stdout",
     "output_type": "stream",
     "text": [
      "data size = 299312\n"
     ]
    }
   ],
   "source": [
    "diabetes_size = len(ready_diabetes_df)\n",
    "print(f\"data size = {diabetes_size}\")"
   ],
   "metadata": {
    "collapsed": false,
    "pycharm": {
     "name": "#%%\n"
    }
   }
  },
  {
   "cell_type": "code",
   "execution_count": 148,
   "outputs": [],
   "source": [
    "datasets.append('diabetes')\n",
    "sizes.append(diabetes_size)"
   ],
   "metadata": {
    "collapsed": false,
    "pycharm": {
     "name": "#%%\n"
    }
   }
  },
  {
   "cell_type": "code",
   "execution_count": 149,
   "outputs": [],
   "source": [
    "ready_diabetes_df.to_csv(\"data/diabetes_data.csv\", index=False)"
   ],
   "metadata": {
    "collapsed": false,
    "pycharm": {
     "name": "#%%\n"
    }
   }
  },
  {
   "cell_type": "markdown",
   "source": [
    "### Mountains VS Beaches"
   ],
   "metadata": {
    "collapsed": false,
    "pycharm": {
     "name": "#%% md\n"
    }
   }
  },
  {
   "cell_type": "code",
   "execution_count": 150,
   "outputs": [
    {
     "data": {
      "text/plain": "   Age      Gender  Income Education_Level  Travel_Frequency  \\\n0   56        male   71477        bachelor                 9   \n1   69        male   88740          master                 1   \n2   46      female   46562          master                 0   \n3   32  non-binary   99044     high school                 6   \n4   60      female  106583     high school                 5   \n\n  Preferred_Activities  Vacation_Budget  Location  Proximity_to_Mountains  \\\n0               skiing             2477     urban                     175   \n1             swimming             4777  suburban                     228   \n2               skiing             1469     urban                      71   \n3               hiking             1482     rural                      31   \n4           sunbathing              516  suburban                      23   \n\n   Proximity_to_Beaches Favorite_Season  Pets  Environmental_Concerns  \\\n0                   267          summer     0                       1   \n1                   190            fall     0                       1   \n2                   280          winter     0                       0   \n3                   255          summer     1                       0   \n4                   151          winter     1                       1   \n\n   Preference  \n0           1  \n1           0  \n2           1  \n3           1  \n4           0  ",
      "text/html": "<div>\n<style scoped>\n    .dataframe tbody tr th:only-of-type {\n        vertical-align: middle;\n    }\n\n    .dataframe tbody tr th {\n        vertical-align: top;\n    }\n\n    .dataframe thead th {\n        text-align: right;\n    }\n</style>\n<table border=\"1\" class=\"dataframe\">\n  <thead>\n    <tr style=\"text-align: right;\">\n      <th></th>\n      <th>Age</th>\n      <th>Gender</th>\n      <th>Income</th>\n      <th>Education_Level</th>\n      <th>Travel_Frequency</th>\n      <th>Preferred_Activities</th>\n      <th>Vacation_Budget</th>\n      <th>Location</th>\n      <th>Proximity_to_Mountains</th>\n      <th>Proximity_to_Beaches</th>\n      <th>Favorite_Season</th>\n      <th>Pets</th>\n      <th>Environmental_Concerns</th>\n      <th>Preference</th>\n    </tr>\n  </thead>\n  <tbody>\n    <tr>\n      <th>0</th>\n      <td>56</td>\n      <td>male</td>\n      <td>71477</td>\n      <td>bachelor</td>\n      <td>9</td>\n      <td>skiing</td>\n      <td>2477</td>\n      <td>urban</td>\n      <td>175</td>\n      <td>267</td>\n      <td>summer</td>\n      <td>0</td>\n      <td>1</td>\n      <td>1</td>\n    </tr>\n    <tr>\n      <th>1</th>\n      <td>69</td>\n      <td>male</td>\n      <td>88740</td>\n      <td>master</td>\n      <td>1</td>\n      <td>swimming</td>\n      <td>4777</td>\n      <td>suburban</td>\n      <td>228</td>\n      <td>190</td>\n      <td>fall</td>\n      <td>0</td>\n      <td>1</td>\n      <td>0</td>\n    </tr>\n    <tr>\n      <th>2</th>\n      <td>46</td>\n      <td>female</td>\n      <td>46562</td>\n      <td>master</td>\n      <td>0</td>\n      <td>skiing</td>\n      <td>1469</td>\n      <td>urban</td>\n      <td>71</td>\n      <td>280</td>\n      <td>winter</td>\n      <td>0</td>\n      <td>0</td>\n      <td>1</td>\n    </tr>\n    <tr>\n      <th>3</th>\n      <td>32</td>\n      <td>non-binary</td>\n      <td>99044</td>\n      <td>high school</td>\n      <td>6</td>\n      <td>hiking</td>\n      <td>1482</td>\n      <td>rural</td>\n      <td>31</td>\n      <td>255</td>\n      <td>summer</td>\n      <td>1</td>\n      <td>0</td>\n      <td>1</td>\n    </tr>\n    <tr>\n      <th>4</th>\n      <td>60</td>\n      <td>female</td>\n      <td>106583</td>\n      <td>high school</td>\n      <td>5</td>\n      <td>sunbathing</td>\n      <td>516</td>\n      <td>suburban</td>\n      <td>23</td>\n      <td>151</td>\n      <td>winter</td>\n      <td>1</td>\n      <td>1</td>\n      <td>0</td>\n    </tr>\n  </tbody>\n</table>\n</div>"
     },
     "execution_count": 150,
     "metadata": {},
     "output_type": "execute_result"
    }
   ],
   "source": [
    "mb_df = pd.read_csv(\"data/classification/mountains_vs_beaches_preferences.csv\")\n",
    "mb_df.head()"
   ],
   "metadata": {
    "collapsed": false,
    "pycharm": {
     "name": "#%%\n"
    }
   }
  },
  {
   "cell_type": "code",
   "execution_count": 151,
   "outputs": [],
   "source": [
    "ready_mb_df = convert_data(mb_df, label_name='Preference', expand=False)"
   ],
   "metadata": {
    "collapsed": false,
    "pycharm": {
     "name": "#%%\n"
    }
   }
  },
  {
   "cell_type": "code",
   "execution_count": 152,
   "outputs": [
    {
     "data": {
      "text/plain": "        Age  Gender    Income  Education_Level  Travel_Frequency  \\\n0  0.745098       1  0.514770                0          1.000000   \n1  1.000000       1  0.687404                3          0.111111   \n2  0.549020       0  0.265615                3          0.000000   \n3  0.274510       2  0.790446                2          0.666667   \n4  0.823529       0  0.865837                2          0.555556   \n\n   Preferred_Activities  Vacation_Budget  Location  Proximity_to_Mountains  \\\n0                     1         0.439431         2                0.585284   \n1                     3         0.950656         1                0.762542   \n2                     1         0.215381         2                0.237458   \n3                     0         0.218271         0                0.103679   \n4                     2         0.003556         1                0.076923   \n\n   Proximity_to_Beaches  Favorite_Season  Pets  Environmental_Concerns  \\\n0              0.892977                2   0.0                     1.0   \n1              0.635452                0   0.0                     1.0   \n2              0.936455                3   0.0                     0.0   \n3              0.852843                2   1.0                     0.0   \n4              0.505017                3   1.0                     1.0   \n\n   Preference  \n0           1  \n1           0  \n2           1  \n3           1  \n4           0  ",
      "text/html": "<div>\n<style scoped>\n    .dataframe tbody tr th:only-of-type {\n        vertical-align: middle;\n    }\n\n    .dataframe tbody tr th {\n        vertical-align: top;\n    }\n\n    .dataframe thead th {\n        text-align: right;\n    }\n</style>\n<table border=\"1\" class=\"dataframe\">\n  <thead>\n    <tr style=\"text-align: right;\">\n      <th></th>\n      <th>Age</th>\n      <th>Gender</th>\n      <th>Income</th>\n      <th>Education_Level</th>\n      <th>Travel_Frequency</th>\n      <th>Preferred_Activities</th>\n      <th>Vacation_Budget</th>\n      <th>Location</th>\n      <th>Proximity_to_Mountains</th>\n      <th>Proximity_to_Beaches</th>\n      <th>Favorite_Season</th>\n      <th>Pets</th>\n      <th>Environmental_Concerns</th>\n      <th>Preference</th>\n    </tr>\n  </thead>\n  <tbody>\n    <tr>\n      <th>0</th>\n      <td>0.745098</td>\n      <td>1</td>\n      <td>0.514770</td>\n      <td>0</td>\n      <td>1.000000</td>\n      <td>1</td>\n      <td>0.439431</td>\n      <td>2</td>\n      <td>0.585284</td>\n      <td>0.892977</td>\n      <td>2</td>\n      <td>0.0</td>\n      <td>1.0</td>\n      <td>1</td>\n    </tr>\n    <tr>\n      <th>1</th>\n      <td>1.000000</td>\n      <td>1</td>\n      <td>0.687404</td>\n      <td>3</td>\n      <td>0.111111</td>\n      <td>3</td>\n      <td>0.950656</td>\n      <td>1</td>\n      <td>0.762542</td>\n      <td>0.635452</td>\n      <td>0</td>\n      <td>0.0</td>\n      <td>1.0</td>\n      <td>0</td>\n    </tr>\n    <tr>\n      <th>2</th>\n      <td>0.549020</td>\n      <td>0</td>\n      <td>0.265615</td>\n      <td>3</td>\n      <td>0.000000</td>\n      <td>1</td>\n      <td>0.215381</td>\n      <td>2</td>\n      <td>0.237458</td>\n      <td>0.936455</td>\n      <td>3</td>\n      <td>0.0</td>\n      <td>0.0</td>\n      <td>1</td>\n    </tr>\n    <tr>\n      <th>3</th>\n      <td>0.274510</td>\n      <td>2</td>\n      <td>0.790446</td>\n      <td>2</td>\n      <td>0.666667</td>\n      <td>0</td>\n      <td>0.218271</td>\n      <td>0</td>\n      <td>0.103679</td>\n      <td>0.852843</td>\n      <td>2</td>\n      <td>1.0</td>\n      <td>0.0</td>\n      <td>1</td>\n    </tr>\n    <tr>\n      <th>4</th>\n      <td>0.823529</td>\n      <td>0</td>\n      <td>0.865837</td>\n      <td>2</td>\n      <td>0.555556</td>\n      <td>2</td>\n      <td>0.003556</td>\n      <td>1</td>\n      <td>0.076923</td>\n      <td>0.505017</td>\n      <td>3</td>\n      <td>1.0</td>\n      <td>1.0</td>\n      <td>0</td>\n    </tr>\n  </tbody>\n</table>\n</div>"
     },
     "execution_count": 152,
     "metadata": {},
     "output_type": "execute_result"
    }
   ],
   "source": [
    "ready_mb_df.head()"
   ],
   "metadata": {
    "collapsed": false,
    "pycharm": {
     "name": "#%%\n"
    }
   }
  },
  {
   "cell_type": "code",
   "execution_count": 153,
   "outputs": [
    {
     "name": "stdout",
     "output_type": "stream",
     "text": [
      "Label balance:\n",
      "Label 0: 39296 (74.93%)\n",
      "Label 1: 13148 (25.07%)\n"
     ]
    }
   ],
   "source": [
    "show_label_balance(ready_mb_df, label_name='Preference')"
   ],
   "metadata": {
    "collapsed": false,
    "pycharm": {
     "name": "#%%\n"
    }
   }
  },
  {
   "cell_type": "code",
   "execution_count": 154,
   "outputs": [
    {
     "name": "stdout",
     "output_type": "stream",
     "text": [
      "data size = 52444\n"
     ]
    }
   ],
   "source": [
    "mb_size = len(ready_mb_df)\n",
    "print(f\"data size = {mb_size}\")"
   ],
   "metadata": {
    "collapsed": false,
    "pycharm": {
     "name": "#%%\n"
    }
   }
  },
  {
   "cell_type": "code",
   "execution_count": 155,
   "outputs": [],
   "source": [
    "datasets.append('mb')\n",
    "sizes.append(mb_size)"
   ],
   "metadata": {
    "collapsed": false,
    "pycharm": {
     "name": "#%%\n"
    }
   }
  },
  {
   "cell_type": "code",
   "execution_count": 156,
   "outputs": [],
   "source": [
    "ready_mb_df.to_csv(\"data/mb_data.csv\", index=False)"
   ],
   "metadata": {
    "collapsed": false,
    "pycharm": {
     "name": "#%%\n"
    }
   }
  },
  {
   "cell_type": "markdown",
   "source": [
    "### Passenger Satisfaction"
   ],
   "metadata": {
    "collapsed": false,
    "pycharm": {
     "name": "#%% md\n"
    }
   }
  },
  {
   "cell_type": "code",
   "execution_count": 6,
   "outputs": [
    {
     "data": {
      "text/plain": "       id  Gender      Customer Type  Age   Type of Travel     Class  \\\n0   70172    Male     Loyal Customer   13  Personal Travel  Eco Plus   \n1    5047    Male  disloyal Customer   25  Business travel  Business   \n2  110028  Female     Loyal Customer   26  Business travel  Business   \n3   24026  Female     Loyal Customer   25  Business travel  Business   \n4  119299    Male     Loyal Customer   61  Business travel  Business   \n\n   Flight Distance  Inflight wifi service  Departure/Arrival time convenient  \\\n0              460                      3                                  4   \n1              235                      3                                  2   \n2             1142                      2                                  2   \n3              562                      2                                  5   \n4              214                      3                                  3   \n\n   Ease of Online booking  ...  Inflight entertainment  On-board service  \\\n0                       3  ...                       5                 4   \n1                       3  ...                       1                 1   \n2                       2  ...                       5                 4   \n3                       5  ...                       2                 2   \n4                       3  ...                       3                 3   \n\n   Leg room service  Baggage handling  Checkin service  Inflight service  \\\n0                 3                 4                4                 5   \n1                 5                 3                1                 4   \n2                 3                 4                4                 4   \n3                 5                 3                1                 4   \n4                 4                 4                3                 3   \n\n   Cleanliness  Departure Delay in Minutes  Arrival Delay in Minutes  \\\n0            5                          25                      18.0   \n1            1                           1                       6.0   \n2            5                           0                       0.0   \n3            2                          11                       9.0   \n4            3                           0                       0.0   \n\n              satisfaction  \n0  neutral or dissatisfied  \n1  neutral or dissatisfied  \n2                satisfied  \n3  neutral or dissatisfied  \n4                satisfied  \n\n[5 rows x 24 columns]",
      "text/html": "<div>\n<style scoped>\n    .dataframe tbody tr th:only-of-type {\n        vertical-align: middle;\n    }\n\n    .dataframe tbody tr th {\n        vertical-align: top;\n    }\n\n    .dataframe thead th {\n        text-align: right;\n    }\n</style>\n<table border=\"1\" class=\"dataframe\">\n  <thead>\n    <tr style=\"text-align: right;\">\n      <th></th>\n      <th>id</th>\n      <th>Gender</th>\n      <th>Customer Type</th>\n      <th>Age</th>\n      <th>Type of Travel</th>\n      <th>Class</th>\n      <th>Flight Distance</th>\n      <th>Inflight wifi service</th>\n      <th>Departure/Arrival time convenient</th>\n      <th>Ease of Online booking</th>\n      <th>...</th>\n      <th>Inflight entertainment</th>\n      <th>On-board service</th>\n      <th>Leg room service</th>\n      <th>Baggage handling</th>\n      <th>Checkin service</th>\n      <th>Inflight service</th>\n      <th>Cleanliness</th>\n      <th>Departure Delay in Minutes</th>\n      <th>Arrival Delay in Minutes</th>\n      <th>satisfaction</th>\n    </tr>\n  </thead>\n  <tbody>\n    <tr>\n      <th>0</th>\n      <td>70172</td>\n      <td>Male</td>\n      <td>Loyal Customer</td>\n      <td>13</td>\n      <td>Personal Travel</td>\n      <td>Eco Plus</td>\n      <td>460</td>\n      <td>3</td>\n      <td>4</td>\n      <td>3</td>\n      <td>...</td>\n      <td>5</td>\n      <td>4</td>\n      <td>3</td>\n      <td>4</td>\n      <td>4</td>\n      <td>5</td>\n      <td>5</td>\n      <td>25</td>\n      <td>18.0</td>\n      <td>neutral or dissatisfied</td>\n    </tr>\n    <tr>\n      <th>1</th>\n      <td>5047</td>\n      <td>Male</td>\n      <td>disloyal Customer</td>\n      <td>25</td>\n      <td>Business travel</td>\n      <td>Business</td>\n      <td>235</td>\n      <td>3</td>\n      <td>2</td>\n      <td>3</td>\n      <td>...</td>\n      <td>1</td>\n      <td>1</td>\n      <td>5</td>\n      <td>3</td>\n      <td>1</td>\n      <td>4</td>\n      <td>1</td>\n      <td>1</td>\n      <td>6.0</td>\n      <td>neutral or dissatisfied</td>\n    </tr>\n    <tr>\n      <th>2</th>\n      <td>110028</td>\n      <td>Female</td>\n      <td>Loyal Customer</td>\n      <td>26</td>\n      <td>Business travel</td>\n      <td>Business</td>\n      <td>1142</td>\n      <td>2</td>\n      <td>2</td>\n      <td>2</td>\n      <td>...</td>\n      <td>5</td>\n      <td>4</td>\n      <td>3</td>\n      <td>4</td>\n      <td>4</td>\n      <td>4</td>\n      <td>5</td>\n      <td>0</td>\n      <td>0.0</td>\n      <td>satisfied</td>\n    </tr>\n    <tr>\n      <th>3</th>\n      <td>24026</td>\n      <td>Female</td>\n      <td>Loyal Customer</td>\n      <td>25</td>\n      <td>Business travel</td>\n      <td>Business</td>\n      <td>562</td>\n      <td>2</td>\n      <td>5</td>\n      <td>5</td>\n      <td>...</td>\n      <td>2</td>\n      <td>2</td>\n      <td>5</td>\n      <td>3</td>\n      <td>1</td>\n      <td>4</td>\n      <td>2</td>\n      <td>11</td>\n      <td>9.0</td>\n      <td>neutral or dissatisfied</td>\n    </tr>\n    <tr>\n      <th>4</th>\n      <td>119299</td>\n      <td>Male</td>\n      <td>Loyal Customer</td>\n      <td>61</td>\n      <td>Business travel</td>\n      <td>Business</td>\n      <td>214</td>\n      <td>3</td>\n      <td>3</td>\n      <td>3</td>\n      <td>...</td>\n      <td>3</td>\n      <td>3</td>\n      <td>4</td>\n      <td>4</td>\n      <td>3</td>\n      <td>3</td>\n      <td>3</td>\n      <td>0</td>\n      <td>0.0</td>\n      <td>satisfied</td>\n    </tr>\n  </tbody>\n</table>\n<p>5 rows × 24 columns</p>\n</div>"
     },
     "execution_count": 6,
     "metadata": {},
     "output_type": "execute_result"
    }
   ],
   "source": [
    "passenger_df = pd.read_csv(\"data/classification/passenger_satisfaction.csv\")\n",
    "passenger_df = passenger_df.loc[:, ~passenger_df.columns.str.contains('^Unnamed')]\n",
    "passenger_df.head()"
   ],
   "metadata": {
    "collapsed": false,
    "pycharm": {
     "name": "#%%\n"
    }
   }
  },
  {
   "cell_type": "code",
   "execution_count": 7,
   "outputs": [],
   "source": [
    "passenger_df.drop(columns=['id'], inplace=True)"
   ],
   "metadata": {
    "collapsed": false,
    "pycharm": {
     "name": "#%%\n"
    }
   }
  },
  {
   "cell_type": "code",
   "execution_count": 8,
   "outputs": [],
   "source": [
    "ready_passenger_df = convert_data(passenger_df, label_name='satisfaction', expand=False)"
   ],
   "metadata": {
    "collapsed": false,
    "pycharm": {
     "name": "#%%\n"
    }
   }
  },
  {
   "cell_type": "code",
   "execution_count": 9,
   "outputs": [
    {
     "data": {
      "text/plain": "   Gender  Customer Type       Age  Type of Travel  Class  Flight Distance  \\\n0       1              0  0.076923               1      2         0.086632   \n1       1              1  0.230769               0      0         0.041195   \n2       0              0  0.243590               0      0         0.224354   \n3       0              0  0.230769               0      0         0.107229   \n4       1              0  0.692308               0      0         0.036955   \n\n   Inflight wifi service  Departure/Arrival time convenient  \\\n0                    0.6                                0.8   \n1                    0.6                                0.4   \n2                    0.4                                0.4   \n3                    0.4                                1.0   \n4                    0.6                                0.6   \n\n   Ease of Online booking  Gate location  ...  Inflight entertainment  \\\n0                     0.6            0.2  ...                     1.0   \n1                     0.6            0.6  ...                     0.2   \n2                     0.4            0.4  ...                     1.0   \n3                     1.0            1.0  ...                     0.4   \n4                     0.6            0.6  ...                     0.6   \n\n   On-board service  Leg room service  Baggage handling  Checkin service  \\\n0               0.8               0.6              0.75              0.8   \n1               0.2               1.0              0.50              0.2   \n2               0.8               0.6              0.75              0.8   \n3               0.4               1.0              0.50              0.2   \n4               0.6               0.8              0.75              0.6   \n\n   Inflight service  Cleanliness  Departure Delay in Minutes  \\\n0               1.0          1.0                    0.015704   \n1               0.8          0.2                    0.000628   \n2               0.8          1.0                    0.000000   \n3               0.8          0.4                    0.006910   \n4               0.6          0.6                    0.000000   \n\n   Arrival Delay in Minutes  satisfaction  \n0                  0.011364             0  \n1                  0.003788             0  \n2                  0.000000             1  \n3                  0.005682             0  \n4                  0.000000             1  \n\n[5 rows x 23 columns]",
      "text/html": "<div>\n<style scoped>\n    .dataframe tbody tr th:only-of-type {\n        vertical-align: middle;\n    }\n\n    .dataframe tbody tr th {\n        vertical-align: top;\n    }\n\n    .dataframe thead th {\n        text-align: right;\n    }\n</style>\n<table border=\"1\" class=\"dataframe\">\n  <thead>\n    <tr style=\"text-align: right;\">\n      <th></th>\n      <th>Gender</th>\n      <th>Customer Type</th>\n      <th>Age</th>\n      <th>Type of Travel</th>\n      <th>Class</th>\n      <th>Flight Distance</th>\n      <th>Inflight wifi service</th>\n      <th>Departure/Arrival time convenient</th>\n      <th>Ease of Online booking</th>\n      <th>Gate location</th>\n      <th>...</th>\n      <th>Inflight entertainment</th>\n      <th>On-board service</th>\n      <th>Leg room service</th>\n      <th>Baggage handling</th>\n      <th>Checkin service</th>\n      <th>Inflight service</th>\n      <th>Cleanliness</th>\n      <th>Departure Delay in Minutes</th>\n      <th>Arrival Delay in Minutes</th>\n      <th>satisfaction</th>\n    </tr>\n  </thead>\n  <tbody>\n    <tr>\n      <th>0</th>\n      <td>1</td>\n      <td>0</td>\n      <td>0.076923</td>\n      <td>1</td>\n      <td>2</td>\n      <td>0.086632</td>\n      <td>0.6</td>\n      <td>0.8</td>\n      <td>0.6</td>\n      <td>0.2</td>\n      <td>...</td>\n      <td>1.0</td>\n      <td>0.8</td>\n      <td>0.6</td>\n      <td>0.75</td>\n      <td>0.8</td>\n      <td>1.0</td>\n      <td>1.0</td>\n      <td>0.015704</td>\n      <td>0.011364</td>\n      <td>0</td>\n    </tr>\n    <tr>\n      <th>1</th>\n      <td>1</td>\n      <td>1</td>\n      <td>0.230769</td>\n      <td>0</td>\n      <td>0</td>\n      <td>0.041195</td>\n      <td>0.6</td>\n      <td>0.4</td>\n      <td>0.6</td>\n      <td>0.6</td>\n      <td>...</td>\n      <td>0.2</td>\n      <td>0.2</td>\n      <td>1.0</td>\n      <td>0.50</td>\n      <td>0.2</td>\n      <td>0.8</td>\n      <td>0.2</td>\n      <td>0.000628</td>\n      <td>0.003788</td>\n      <td>0</td>\n    </tr>\n    <tr>\n      <th>2</th>\n      <td>0</td>\n      <td>0</td>\n      <td>0.243590</td>\n      <td>0</td>\n      <td>0</td>\n      <td>0.224354</td>\n      <td>0.4</td>\n      <td>0.4</td>\n      <td>0.4</td>\n      <td>0.4</td>\n      <td>...</td>\n      <td>1.0</td>\n      <td>0.8</td>\n      <td>0.6</td>\n      <td>0.75</td>\n      <td>0.8</td>\n      <td>0.8</td>\n      <td>1.0</td>\n      <td>0.000000</td>\n      <td>0.000000</td>\n      <td>1</td>\n    </tr>\n    <tr>\n      <th>3</th>\n      <td>0</td>\n      <td>0</td>\n      <td>0.230769</td>\n      <td>0</td>\n      <td>0</td>\n      <td>0.107229</td>\n      <td>0.4</td>\n      <td>1.0</td>\n      <td>1.0</td>\n      <td>1.0</td>\n      <td>...</td>\n      <td>0.4</td>\n      <td>0.4</td>\n      <td>1.0</td>\n      <td>0.50</td>\n      <td>0.2</td>\n      <td>0.8</td>\n      <td>0.4</td>\n      <td>0.006910</td>\n      <td>0.005682</td>\n      <td>0</td>\n    </tr>\n    <tr>\n      <th>4</th>\n      <td>1</td>\n      <td>0</td>\n      <td>0.692308</td>\n      <td>0</td>\n      <td>0</td>\n      <td>0.036955</td>\n      <td>0.6</td>\n      <td>0.6</td>\n      <td>0.6</td>\n      <td>0.6</td>\n      <td>...</td>\n      <td>0.6</td>\n      <td>0.6</td>\n      <td>0.8</td>\n      <td>0.75</td>\n      <td>0.6</td>\n      <td>0.6</td>\n      <td>0.6</td>\n      <td>0.000000</td>\n      <td>0.000000</td>\n      <td>1</td>\n    </tr>\n  </tbody>\n</table>\n<p>5 rows × 23 columns</p>\n</div>"
     },
     "execution_count": 9,
     "metadata": {},
     "output_type": "execute_result"
    }
   ],
   "source": [
    "ready_passenger_df.head()"
   ],
   "metadata": {
    "collapsed": false,
    "pycharm": {
     "name": "#%%\n"
    }
   }
  },
  {
   "cell_type": "code",
   "execution_count": 10,
   "outputs": [
    {
     "data": {
      "text/plain": "103904"
     },
     "execution_count": 10,
     "metadata": {},
     "output_type": "execute_result"
    }
   ],
   "source": [
    "passenger_size = len(ready_passenger_df)\n",
    "len(ready_passenger_df)"
   ],
   "metadata": {
    "collapsed": false,
    "pycharm": {
     "name": "#%%\n"
    }
   }
  },
  {
   "cell_type": "code",
   "execution_count": 11,
   "outputs": [],
   "source": [
    "ready_passenger_df.dropna(inplace=True)"
   ],
   "metadata": {
    "collapsed": false,
    "pycharm": {
     "name": "#%%\n"
    }
   }
  },
  {
   "cell_type": "code",
   "execution_count": 12,
   "outputs": [
    {
     "name": "stdout",
     "output_type": "stream",
     "text": [
      "Label balance:\n",
      "Label 0: 58697 (56.66%)\n",
      "Label 1: 44897 (43.34%)\n"
     ]
    }
   ],
   "source": [
    "show_label_balance(ready_passenger_df, label_name='satisfaction')"
   ],
   "metadata": {
    "collapsed": false,
    "pycharm": {
     "name": "#%%\n"
    }
   }
  },
  {
   "cell_type": "code",
   "execution_count": 13,
   "outputs": [],
   "source": [
    "datasets.append('passenger')\n",
    "sizes.append(passenger_size)"
   ],
   "metadata": {
    "collapsed": false,
    "pycharm": {
     "name": "#%%\n"
    }
   }
  },
  {
   "cell_type": "code",
   "execution_count": 14,
   "outputs": [],
   "source": [
    "ready_passenger_df.to_csv(\"data/passenger_data.csv\", index=False)"
   ],
   "metadata": {
    "collapsed": false,
    "pycharm": {
     "name": "#%%\n"
    }
   }
  },
  {
   "cell_type": "markdown",
   "source": [
    "### Employee"
   ],
   "metadata": {
    "collapsed": false,
    "pycharm": {
     "name": "#%% md\n"
    }
   }
  },
  {
   "cell_type": "code",
   "execution_count": 166,
   "outputs": [
    {
     "data": {
      "text/plain": "   Education  JoiningYear       City  PaymentTier  Age  Gender EverBenched  \\\n0  Bachelors         2017  Bangalore            3   34    Male          No   \n1  Bachelors         2013       Pune            1   28  Female          No   \n2  Bachelors         2014  New Delhi            3   38  Female          No   \n3    Masters         2016  Bangalore            3   27    Male          No   \n4    Masters         2017       Pune            3   24    Male         Yes   \n\n   ExperienceInCurrentDomain  LeaveOrNot  \n0                          0           0  \n1                          3           1  \n2                          2           0  \n3                          5           1  \n4                          2           1  ",
      "text/html": "<div>\n<style scoped>\n    .dataframe tbody tr th:only-of-type {\n        vertical-align: middle;\n    }\n\n    .dataframe tbody tr th {\n        vertical-align: top;\n    }\n\n    .dataframe thead th {\n        text-align: right;\n    }\n</style>\n<table border=\"1\" class=\"dataframe\">\n  <thead>\n    <tr style=\"text-align: right;\">\n      <th></th>\n      <th>Education</th>\n      <th>JoiningYear</th>\n      <th>City</th>\n      <th>PaymentTier</th>\n      <th>Age</th>\n      <th>Gender</th>\n      <th>EverBenched</th>\n      <th>ExperienceInCurrentDomain</th>\n      <th>LeaveOrNot</th>\n    </tr>\n  </thead>\n  <tbody>\n    <tr>\n      <th>0</th>\n      <td>Bachelors</td>\n      <td>2017</td>\n      <td>Bangalore</td>\n      <td>3</td>\n      <td>34</td>\n      <td>Male</td>\n      <td>No</td>\n      <td>0</td>\n      <td>0</td>\n    </tr>\n    <tr>\n      <th>1</th>\n      <td>Bachelors</td>\n      <td>2013</td>\n      <td>Pune</td>\n      <td>1</td>\n      <td>28</td>\n      <td>Female</td>\n      <td>No</td>\n      <td>3</td>\n      <td>1</td>\n    </tr>\n    <tr>\n      <th>2</th>\n      <td>Bachelors</td>\n      <td>2014</td>\n      <td>New Delhi</td>\n      <td>3</td>\n      <td>38</td>\n      <td>Female</td>\n      <td>No</td>\n      <td>2</td>\n      <td>0</td>\n    </tr>\n    <tr>\n      <th>3</th>\n      <td>Masters</td>\n      <td>2016</td>\n      <td>Bangalore</td>\n      <td>3</td>\n      <td>27</td>\n      <td>Male</td>\n      <td>No</td>\n      <td>5</td>\n      <td>1</td>\n    </tr>\n    <tr>\n      <th>4</th>\n      <td>Masters</td>\n      <td>2017</td>\n      <td>Pune</td>\n      <td>3</td>\n      <td>24</td>\n      <td>Male</td>\n      <td>Yes</td>\n      <td>2</td>\n      <td>1</td>\n    </tr>\n  </tbody>\n</table>\n</div>"
     },
     "execution_count": 166,
     "metadata": {},
     "output_type": "execute_result"
    }
   ],
   "source": [
    "employee_df = pd.read_csv(\"data/classification/Employee.csv\")\n",
    "employee_df = employee_df.loc[:, ~employee_df.columns.str.contains('^Unnamed')]\n",
    "employee_df.head()"
   ],
   "metadata": {
    "collapsed": false,
    "pycharm": {
     "name": "#%%\n"
    }
   }
  },
  {
   "cell_type": "code",
   "execution_count": 167,
   "outputs": [],
   "source": [
    "ready_employee_df = convert_data(employee_df, label_name='LeaveOrNot', expand=False)"
   ],
   "metadata": {
    "collapsed": false,
    "pycharm": {
     "name": "#%%\n"
    }
   }
  },
  {
   "cell_type": "code",
   "execution_count": 168,
   "outputs": [
    {
     "data": {
      "text/plain": "   Education  JoiningYear  City  PaymentTier       Age  Gender  EverBenched  \\\n0          0     0.833333     0          1.0  0.631579       1            0   \n1          0     0.166667     2          0.0  0.315789       0            0   \n2          0     0.333333     1          1.0  0.842105       0            0   \n3          1     0.666667     0          1.0  0.263158       1            0   \n4          1     0.833333     2          1.0  0.105263       1            1   \n\n   ExperienceInCurrentDomain  LeaveOrNot  \n0                   0.000000           0  \n1                   0.428571           1  \n2                   0.285714           0  \n3                   0.714286           1  \n4                   0.285714           1  ",
      "text/html": "<div>\n<style scoped>\n    .dataframe tbody tr th:only-of-type {\n        vertical-align: middle;\n    }\n\n    .dataframe tbody tr th {\n        vertical-align: top;\n    }\n\n    .dataframe thead th {\n        text-align: right;\n    }\n</style>\n<table border=\"1\" class=\"dataframe\">\n  <thead>\n    <tr style=\"text-align: right;\">\n      <th></th>\n      <th>Education</th>\n      <th>JoiningYear</th>\n      <th>City</th>\n      <th>PaymentTier</th>\n      <th>Age</th>\n      <th>Gender</th>\n      <th>EverBenched</th>\n      <th>ExperienceInCurrentDomain</th>\n      <th>LeaveOrNot</th>\n    </tr>\n  </thead>\n  <tbody>\n    <tr>\n      <th>0</th>\n      <td>0</td>\n      <td>0.833333</td>\n      <td>0</td>\n      <td>1.0</td>\n      <td>0.631579</td>\n      <td>1</td>\n      <td>0</td>\n      <td>0.000000</td>\n      <td>0</td>\n    </tr>\n    <tr>\n      <th>1</th>\n      <td>0</td>\n      <td>0.166667</td>\n      <td>2</td>\n      <td>0.0</td>\n      <td>0.315789</td>\n      <td>0</td>\n      <td>0</td>\n      <td>0.428571</td>\n      <td>1</td>\n    </tr>\n    <tr>\n      <th>2</th>\n      <td>0</td>\n      <td>0.333333</td>\n      <td>1</td>\n      <td>1.0</td>\n      <td>0.842105</td>\n      <td>0</td>\n      <td>0</td>\n      <td>0.285714</td>\n      <td>0</td>\n    </tr>\n    <tr>\n      <th>3</th>\n      <td>1</td>\n      <td>0.666667</td>\n      <td>0</td>\n      <td>1.0</td>\n      <td>0.263158</td>\n      <td>1</td>\n      <td>0</td>\n      <td>0.714286</td>\n      <td>1</td>\n    </tr>\n    <tr>\n      <th>4</th>\n      <td>1</td>\n      <td>0.833333</td>\n      <td>2</td>\n      <td>1.0</td>\n      <td>0.105263</td>\n      <td>1</td>\n      <td>1</td>\n      <td>0.285714</td>\n      <td>1</td>\n    </tr>\n  </tbody>\n</table>\n</div>"
     },
     "execution_count": 168,
     "metadata": {},
     "output_type": "execute_result"
    }
   ],
   "source": [
    "ready_employee_df.head()"
   ],
   "metadata": {
    "collapsed": false,
    "pycharm": {
     "name": "#%%\n"
    }
   }
  },
  {
   "cell_type": "code",
   "execution_count": 169,
   "outputs": [],
   "source": [
    "ready_employee_df.dropna(inplace=True)"
   ],
   "metadata": {
    "collapsed": false,
    "pycharm": {
     "name": "#%%\n"
    }
   }
  },
  {
   "cell_type": "code",
   "execution_count": 170,
   "outputs": [
    {
     "data": {
      "text/plain": "      Education  JoiningYear  City  PaymentTier       Age  Gender  \\\n0             0     0.833333     0          1.0  0.631579       1   \n1             0     0.166667     2          0.0  0.315789       0   \n2             0     0.333333     1          1.0  0.842105       0   \n3             1     0.666667     0          1.0  0.263158       1   \n4             1     0.833333     2          1.0  0.105263       1   \n...         ...          ...   ...          ...       ...     ...   \n4648          0     0.166667     0          1.0  0.210526       0   \n4649          1     0.166667     2          0.5  0.789474       1   \n4650          1     1.000000     1          1.0  0.263158       1   \n4651          0     0.000000     0          1.0  0.421053       1   \n4652          0     0.500000     0          1.0  0.578947       1   \n\n      EverBenched  ExperienceInCurrentDomain  LeaveOrNot  \n0               0                   0.000000           0  \n1               0                   0.428571           1  \n2               0                   0.285714           0  \n3               0                   0.714286           1  \n4               1                   0.285714           1  \n...           ...                        ...         ...  \n4648            0                   0.571429           0  \n4649            0                   0.285714           1  \n4650            0                   0.714286           1  \n4651            1                   0.285714           0  \n4652            1                   0.571429           0  \n\n[4653 rows x 9 columns]",
      "text/html": "<div>\n<style scoped>\n    .dataframe tbody tr th:only-of-type {\n        vertical-align: middle;\n    }\n\n    .dataframe tbody tr th {\n        vertical-align: top;\n    }\n\n    .dataframe thead th {\n        text-align: right;\n    }\n</style>\n<table border=\"1\" class=\"dataframe\">\n  <thead>\n    <tr style=\"text-align: right;\">\n      <th></th>\n      <th>Education</th>\n      <th>JoiningYear</th>\n      <th>City</th>\n      <th>PaymentTier</th>\n      <th>Age</th>\n      <th>Gender</th>\n      <th>EverBenched</th>\n      <th>ExperienceInCurrentDomain</th>\n      <th>LeaveOrNot</th>\n    </tr>\n  </thead>\n  <tbody>\n    <tr>\n      <th>0</th>\n      <td>0</td>\n      <td>0.833333</td>\n      <td>0</td>\n      <td>1.0</td>\n      <td>0.631579</td>\n      <td>1</td>\n      <td>0</td>\n      <td>0.000000</td>\n      <td>0</td>\n    </tr>\n    <tr>\n      <th>1</th>\n      <td>0</td>\n      <td>0.166667</td>\n      <td>2</td>\n      <td>0.0</td>\n      <td>0.315789</td>\n      <td>0</td>\n      <td>0</td>\n      <td>0.428571</td>\n      <td>1</td>\n    </tr>\n    <tr>\n      <th>2</th>\n      <td>0</td>\n      <td>0.333333</td>\n      <td>1</td>\n      <td>1.0</td>\n      <td>0.842105</td>\n      <td>0</td>\n      <td>0</td>\n      <td>0.285714</td>\n      <td>0</td>\n    </tr>\n    <tr>\n      <th>3</th>\n      <td>1</td>\n      <td>0.666667</td>\n      <td>0</td>\n      <td>1.0</td>\n      <td>0.263158</td>\n      <td>1</td>\n      <td>0</td>\n      <td>0.714286</td>\n      <td>1</td>\n    </tr>\n    <tr>\n      <th>4</th>\n      <td>1</td>\n      <td>0.833333</td>\n      <td>2</td>\n      <td>1.0</td>\n      <td>0.105263</td>\n      <td>1</td>\n      <td>1</td>\n      <td>0.285714</td>\n      <td>1</td>\n    </tr>\n    <tr>\n      <th>...</th>\n      <td>...</td>\n      <td>...</td>\n      <td>...</td>\n      <td>...</td>\n      <td>...</td>\n      <td>...</td>\n      <td>...</td>\n      <td>...</td>\n      <td>...</td>\n    </tr>\n    <tr>\n      <th>4648</th>\n      <td>0</td>\n      <td>0.166667</td>\n      <td>0</td>\n      <td>1.0</td>\n      <td>0.210526</td>\n      <td>0</td>\n      <td>0</td>\n      <td>0.571429</td>\n      <td>0</td>\n    </tr>\n    <tr>\n      <th>4649</th>\n      <td>1</td>\n      <td>0.166667</td>\n      <td>2</td>\n      <td>0.5</td>\n      <td>0.789474</td>\n      <td>1</td>\n      <td>0</td>\n      <td>0.285714</td>\n      <td>1</td>\n    </tr>\n    <tr>\n      <th>4650</th>\n      <td>1</td>\n      <td>1.000000</td>\n      <td>1</td>\n      <td>1.0</td>\n      <td>0.263158</td>\n      <td>1</td>\n      <td>0</td>\n      <td>0.714286</td>\n      <td>1</td>\n    </tr>\n    <tr>\n      <th>4651</th>\n      <td>0</td>\n      <td>0.000000</td>\n      <td>0</td>\n      <td>1.0</td>\n      <td>0.421053</td>\n      <td>1</td>\n      <td>1</td>\n      <td>0.285714</td>\n      <td>0</td>\n    </tr>\n    <tr>\n      <th>4652</th>\n      <td>0</td>\n      <td>0.500000</td>\n      <td>0</td>\n      <td>1.0</td>\n      <td>0.578947</td>\n      <td>1</td>\n      <td>1</td>\n      <td>0.571429</td>\n      <td>0</td>\n    </tr>\n  </tbody>\n</table>\n<p>4653 rows × 9 columns</p>\n</div>"
     },
     "execution_count": 170,
     "metadata": {},
     "output_type": "execute_result"
    }
   ],
   "source": [
    "ready_employee_df"
   ],
   "metadata": {
    "collapsed": false,
    "pycharm": {
     "name": "#%%\n"
    }
   }
  },
  {
   "cell_type": "code",
   "execution_count": 171,
   "outputs": [
    {
     "data": {
      "text/plain": "4653"
     },
     "execution_count": 171,
     "metadata": {},
     "output_type": "execute_result"
    }
   ],
   "source": [
    "employee_size = len(ready_employee_df)\n",
    "employee_size"
   ],
   "metadata": {
    "collapsed": false,
    "pycharm": {
     "name": "#%%\n"
    }
   }
  },
  {
   "cell_type": "code",
   "execution_count": 172,
   "outputs": [
    {
     "name": "stdout",
     "output_type": "stream",
     "text": [
      "Label balance:\n",
      "Label 0: 3053 (65.61%)\n",
      "Label 1: 1600 (34.39%)\n"
     ]
    }
   ],
   "source": [
    "show_label_balance(ready_employee_df, label_name='LeaveOrNot')"
   ],
   "metadata": {
    "collapsed": false,
    "pycharm": {
     "name": "#%%\n"
    }
   }
  },
  {
   "cell_type": "code",
   "execution_count": 173,
   "outputs": [],
   "source": [
    "datasets.append('employee')\n",
    "sizes.append(employee_size)"
   ],
   "metadata": {
    "collapsed": false,
    "pycharm": {
     "name": "#%%\n"
    }
   }
  },
  {
   "cell_type": "code",
   "execution_count": 174,
   "outputs": [],
   "source": [
    "ready_employee_df.to_csv(\"data/employee_data.csv\", index=False)"
   ],
   "metadata": {
    "collapsed": false,
    "pycharm": {
     "name": "#%%\n"
    }
   }
  },
  {
   "cell_type": "markdown",
   "source": [
    "### shipping"
   ],
   "metadata": {
    "collapsed": false,
    "pycharm": {
     "name": "#%% md\n"
    }
   }
  },
  {
   "cell_type": "code",
   "execution_count": 175,
   "outputs": [
    {
     "data": {
      "text/plain": "  Warehouse_block Mode_of_Shipment  Customer_care_calls  Customer_rating  \\\n0               D           Flight                    4                2   \n1               F           Flight                    4                5   \n2               A           Flight                    2                2   \n3               B           Flight                    3                3   \n4               C           Flight                    2                2   \n\n   Cost_of_the_Product  Prior_purchases Product_importance Gender  \\\n0                  177                3                low      F   \n1                  216                2                low      M   \n2                  183                4                low      M   \n3                  176                4             medium      M   \n4                  184                3             medium      F   \n\n   Discount_offered  Weight_in_gms  Reached.on.Time_Y.N  \n0                44           1233                    1  \n1                59           3088                    1  \n2                48           3374                    1  \n3                10           1177                    1  \n4                46           2484                    1  ",
      "text/html": "<div>\n<style scoped>\n    .dataframe tbody tr th:only-of-type {\n        vertical-align: middle;\n    }\n\n    .dataframe tbody tr th {\n        vertical-align: top;\n    }\n\n    .dataframe thead th {\n        text-align: right;\n    }\n</style>\n<table border=\"1\" class=\"dataframe\">\n  <thead>\n    <tr style=\"text-align: right;\">\n      <th></th>\n      <th>Warehouse_block</th>\n      <th>Mode_of_Shipment</th>\n      <th>Customer_care_calls</th>\n      <th>Customer_rating</th>\n      <th>Cost_of_the_Product</th>\n      <th>Prior_purchases</th>\n      <th>Product_importance</th>\n      <th>Gender</th>\n      <th>Discount_offered</th>\n      <th>Weight_in_gms</th>\n      <th>Reached.on.Time_Y.N</th>\n    </tr>\n  </thead>\n  <tbody>\n    <tr>\n      <th>0</th>\n      <td>D</td>\n      <td>Flight</td>\n      <td>4</td>\n      <td>2</td>\n      <td>177</td>\n      <td>3</td>\n      <td>low</td>\n      <td>F</td>\n      <td>44</td>\n      <td>1233</td>\n      <td>1</td>\n    </tr>\n    <tr>\n      <th>1</th>\n      <td>F</td>\n      <td>Flight</td>\n      <td>4</td>\n      <td>5</td>\n      <td>216</td>\n      <td>2</td>\n      <td>low</td>\n      <td>M</td>\n      <td>59</td>\n      <td>3088</td>\n      <td>1</td>\n    </tr>\n    <tr>\n      <th>2</th>\n      <td>A</td>\n      <td>Flight</td>\n      <td>2</td>\n      <td>2</td>\n      <td>183</td>\n      <td>4</td>\n      <td>low</td>\n      <td>M</td>\n      <td>48</td>\n      <td>3374</td>\n      <td>1</td>\n    </tr>\n    <tr>\n      <th>3</th>\n      <td>B</td>\n      <td>Flight</td>\n      <td>3</td>\n      <td>3</td>\n      <td>176</td>\n      <td>4</td>\n      <td>medium</td>\n      <td>M</td>\n      <td>10</td>\n      <td>1177</td>\n      <td>1</td>\n    </tr>\n    <tr>\n      <th>4</th>\n      <td>C</td>\n      <td>Flight</td>\n      <td>2</td>\n      <td>2</td>\n      <td>184</td>\n      <td>3</td>\n      <td>medium</td>\n      <td>F</td>\n      <td>46</td>\n      <td>2484</td>\n      <td>1</td>\n    </tr>\n  </tbody>\n</table>\n</div>"
     },
     "execution_count": 175,
     "metadata": {},
     "output_type": "execute_result"
    }
   ],
   "source": [
    "shipping_df = pd.read_csv(\"data/classification/shipping.csv\")\n",
    "shipping_df = shipping_df.loc[:, ~shipping_df.columns.str.contains('^Unnamed')]\n",
    "shipping_df.head()"
   ],
   "metadata": {
    "collapsed": false,
    "pycharm": {
     "name": "#%%\n"
    }
   }
  },
  {
   "cell_type": "code",
   "execution_count": 176,
   "outputs": [],
   "source": [
    "ready_shipping_df = convert_data(shipping_df, label_name='Reached.on.Time_Y.N', expand=False)"
   ],
   "metadata": {
    "collapsed": false,
    "pycharm": {
     "name": "#%%\n"
    }
   }
  },
  {
   "cell_type": "code",
   "execution_count": 177,
   "outputs": [],
   "source": [
    "ready_shipping_df.dropna(inplace=True)"
   ],
   "metadata": {
    "collapsed": false,
    "pycharm": {
     "name": "#%%\n"
    }
   }
  },
  {
   "cell_type": "code",
   "execution_count": 178,
   "outputs": [
    {
     "data": {
      "text/plain": "10999"
     },
     "execution_count": 178,
     "metadata": {},
     "output_type": "execute_result"
    }
   ],
   "source": [
    "shipping_size = len(ready_shipping_df)\n",
    "shipping_size"
   ],
   "metadata": {
    "collapsed": false,
    "pycharm": {
     "name": "#%%\n"
    }
   }
  },
  {
   "cell_type": "code",
   "execution_count": 179,
   "outputs": [
    {
     "name": "stdout",
     "output_type": "stream",
     "text": [
      "Label balance:\n",
      "Label 1: 6563 (59.67%)\n",
      "Label 0: 4436 (40.33%)\n"
     ]
    }
   ],
   "source": [
    "show_label_balance(ready_shipping_df, label_name='Reached.on.Time_Y.N')"
   ],
   "metadata": {
    "collapsed": false,
    "pycharm": {
     "name": "#%%\n"
    }
   }
  },
  {
   "cell_type": "code",
   "execution_count": 180,
   "outputs": [],
   "source": [
    "datasets.append('shipping')\n",
    "sizes.append(shipping_size)"
   ],
   "metadata": {
    "collapsed": false,
    "pycharm": {
     "name": "#%%\n"
    }
   }
  },
  {
   "cell_type": "code",
   "execution_count": 181,
   "outputs": [],
   "source": [
    "ready_shipping_df.to_csv(\"data/shipping_data.csv\", index=False)"
   ],
   "metadata": {
    "collapsed": false,
    "pycharm": {
     "name": "#%%\n"
    }
   }
  },
  {
   "cell_type": "markdown",
   "source": [
    "### hotel"
   ],
   "metadata": {
    "collapsed": false,
    "pycharm": {
     "name": "#%% md\n"
    }
   }
  },
  {
   "cell_type": "code",
   "execution_count": 182,
   "outputs": [
    {
     "data": {
      "text/plain": "   no_of_adults  no_of_children  no_of_weekend_nights  no_of_week_nights  \\\n0             2               0                     1                  2   \n1             2               0                     2                  3   \n2             1               0                     2                  1   \n3             2               0                     0                  2   \n4             2               0                     1                  1   \n\n  type_of_meal_plan  required_car_parking_space room_type_reserved  lead_time  \\\n0       Meal Plan 1                           0        Room_Type 1        224   \n1      Not Selected                           0        Room_Type 1          5   \n2       Meal Plan 1                           0        Room_Type 1          1   \n3       Meal Plan 1                           0        Room_Type 1        211   \n4      Not Selected                           0        Room_Type 1         48   \n\n   arrival_year  arrival_month  arrival_date market_segment_type  \\\n0          2017             10             2             Offline   \n1          2018             11             6              Online   \n2          2018              2            28              Online   \n3          2018              5            20              Online   \n4          2018              4            11              Online   \n\n   repeated_guest  no_of_previous_cancellations  \\\n0               0                             0   \n1               0                             0   \n2               0                             0   \n3               0                             0   \n4               0                             0   \n\n   no_of_previous_bookings_not_canceled  avg_price_per_room  \\\n0                                     0               65.00   \n1                                     0              106.68   \n2                                     0               60.00   \n3                                     0              100.00   \n4                                     0               94.50   \n\n   no_of_special_requests booking_status  \n0                       0   Not_Canceled  \n1                       1   Not_Canceled  \n2                       0       Canceled  \n3                       0       Canceled  \n4                       0       Canceled  ",
      "text/html": "<div>\n<style scoped>\n    .dataframe tbody tr th:only-of-type {\n        vertical-align: middle;\n    }\n\n    .dataframe tbody tr th {\n        vertical-align: top;\n    }\n\n    .dataframe thead th {\n        text-align: right;\n    }\n</style>\n<table border=\"1\" class=\"dataframe\">\n  <thead>\n    <tr style=\"text-align: right;\">\n      <th></th>\n      <th>no_of_adults</th>\n      <th>no_of_children</th>\n      <th>no_of_weekend_nights</th>\n      <th>no_of_week_nights</th>\n      <th>type_of_meal_plan</th>\n      <th>required_car_parking_space</th>\n      <th>room_type_reserved</th>\n      <th>lead_time</th>\n      <th>arrival_year</th>\n      <th>arrival_month</th>\n      <th>arrival_date</th>\n      <th>market_segment_type</th>\n      <th>repeated_guest</th>\n      <th>no_of_previous_cancellations</th>\n      <th>no_of_previous_bookings_not_canceled</th>\n      <th>avg_price_per_room</th>\n      <th>no_of_special_requests</th>\n      <th>booking_status</th>\n    </tr>\n  </thead>\n  <tbody>\n    <tr>\n      <th>0</th>\n      <td>2</td>\n      <td>0</td>\n      <td>1</td>\n      <td>2</td>\n      <td>Meal Plan 1</td>\n      <td>0</td>\n      <td>Room_Type 1</td>\n      <td>224</td>\n      <td>2017</td>\n      <td>10</td>\n      <td>2</td>\n      <td>Offline</td>\n      <td>0</td>\n      <td>0</td>\n      <td>0</td>\n      <td>65.00</td>\n      <td>0</td>\n      <td>Not_Canceled</td>\n    </tr>\n    <tr>\n      <th>1</th>\n      <td>2</td>\n      <td>0</td>\n      <td>2</td>\n      <td>3</td>\n      <td>Not Selected</td>\n      <td>0</td>\n      <td>Room_Type 1</td>\n      <td>5</td>\n      <td>2018</td>\n      <td>11</td>\n      <td>6</td>\n      <td>Online</td>\n      <td>0</td>\n      <td>0</td>\n      <td>0</td>\n      <td>106.68</td>\n      <td>1</td>\n      <td>Not_Canceled</td>\n    </tr>\n    <tr>\n      <th>2</th>\n      <td>1</td>\n      <td>0</td>\n      <td>2</td>\n      <td>1</td>\n      <td>Meal Plan 1</td>\n      <td>0</td>\n      <td>Room_Type 1</td>\n      <td>1</td>\n      <td>2018</td>\n      <td>2</td>\n      <td>28</td>\n      <td>Online</td>\n      <td>0</td>\n      <td>0</td>\n      <td>0</td>\n      <td>60.00</td>\n      <td>0</td>\n      <td>Canceled</td>\n    </tr>\n    <tr>\n      <th>3</th>\n      <td>2</td>\n      <td>0</td>\n      <td>0</td>\n      <td>2</td>\n      <td>Meal Plan 1</td>\n      <td>0</td>\n      <td>Room_Type 1</td>\n      <td>211</td>\n      <td>2018</td>\n      <td>5</td>\n      <td>20</td>\n      <td>Online</td>\n      <td>0</td>\n      <td>0</td>\n      <td>0</td>\n      <td>100.00</td>\n      <td>0</td>\n      <td>Canceled</td>\n    </tr>\n    <tr>\n      <th>4</th>\n      <td>2</td>\n      <td>0</td>\n      <td>1</td>\n      <td>1</td>\n      <td>Not Selected</td>\n      <td>0</td>\n      <td>Room_Type 1</td>\n      <td>48</td>\n      <td>2018</td>\n      <td>4</td>\n      <td>11</td>\n      <td>Online</td>\n      <td>0</td>\n      <td>0</td>\n      <td>0</td>\n      <td>94.50</td>\n      <td>0</td>\n      <td>Canceled</td>\n    </tr>\n  </tbody>\n</table>\n</div>"
     },
     "execution_count": 182,
     "metadata": {},
     "output_type": "execute_result"
    }
   ],
   "source": [
    "hotel_df = pd.read_csv(\"data/classification/hotel_reservations.csv\")\n",
    "hotel_df = hotel_df.loc[:, ~hotel_df.columns.str.contains('^Unnamed')]\n",
    "hotel_df.head()"
   ],
   "metadata": {
    "collapsed": false,
    "pycharm": {
     "name": "#%%\n"
    }
   }
  },
  {
   "cell_type": "code",
   "execution_count": 183,
   "outputs": [],
   "source": [
    "ready_hotel_df = convert_data(hotel_df, label_name='booking_status', expand=False)"
   ],
   "metadata": {
    "collapsed": false,
    "pycharm": {
     "name": "#%%\n"
    }
   }
  },
  {
   "cell_type": "code",
   "execution_count": 184,
   "outputs": [],
   "source": [
    "ready_hotel_df.dropna(inplace=True)"
   ],
   "metadata": {
    "collapsed": false,
    "pycharm": {
     "name": "#%%\n"
    }
   }
  },
  {
   "cell_type": "code",
   "execution_count": 184,
   "outputs": [],
   "source": [],
   "metadata": {
    "collapsed": false,
    "pycharm": {
     "name": "#%%\n"
    }
   }
  },
  {
   "cell_type": "code",
   "execution_count": 185,
   "outputs": [
    {
     "data": {
      "text/plain": "36275"
     },
     "execution_count": 185,
     "metadata": {},
     "output_type": "execute_result"
    }
   ],
   "source": [
    "hotel_size = len(ready_hotel_df)\n",
    "hotel_size"
   ],
   "metadata": {
    "collapsed": false,
    "pycharm": {
     "name": "#%%\n"
    }
   }
  },
  {
   "cell_type": "code",
   "execution_count": 186,
   "outputs": [
    {
     "name": "stdout",
     "output_type": "stream",
     "text": [
      "Label balance:\n",
      "Label 1: 24390 (67.24%)\n",
      "Label 0: 11885 (32.76%)\n"
     ]
    }
   ],
   "source": [
    "show_label_balance(ready_hotel_df, label_name='booking_status')"
   ],
   "metadata": {
    "collapsed": false,
    "pycharm": {
     "name": "#%%\n"
    }
   }
  },
  {
   "cell_type": "code",
   "execution_count": 187,
   "outputs": [],
   "source": [
    "datasets.append('hotel')\n",
    "sizes.append(hotel_size)"
   ],
   "metadata": {
    "collapsed": false,
    "pycharm": {
     "name": "#%%\n"
    }
   }
  },
  {
   "cell_type": "code",
   "execution_count": 188,
   "outputs": [],
   "source": [
    "ready_hotel_df.to_csv(\"data/hotel_data.csv\", index=False)"
   ],
   "metadata": {
    "collapsed": false,
    "pycharm": {
     "name": "#%%\n"
    }
   }
  },
  {
   "cell_type": "markdown",
   "source": [
    "### overall sizes"
   ],
   "metadata": {
    "collapsed": false,
    "pycharm": {
     "name": "#%% md\n"
    }
   }
  },
  {
   "cell_type": "code",
   "execution_count": 189,
   "outputs": [
    {
     "name": "stdout",
     "output_type": "stream",
     "text": [
      "apple - size = 4000\n",
      "loan - size = 45000\n",
      "wine - size = 1518\n",
      "diabetes - size = 299312\n",
      "mb - size = 52444\n",
      "passenger - size = 103904\n",
      "employee - size = 4653\n",
      "shipping - size = 10999\n",
      "hotel - size = 36275\n"
     ]
    }
   ],
   "source": [
    "for d, s in zip(datasets, sizes):\n",
    "    print(f\"{d} - size = {s}\")"
   ],
   "metadata": {
    "collapsed": false,
    "pycharm": {
     "name": "#%%\n"
    }
   }
  }
 ],
 "metadata": {
  "kernelspec": {
   "display_name": "Python 3",
   "language": "python",
   "name": "python3"
  },
  "language_info": {
   "codemirror_mode": {
    "name": "ipython",
    "version": 2
   },
   "file_extension": ".py",
   "mimetype": "text/x-python",
   "name": "python",
   "nbconvert_exporter": "python",
   "pygments_lexer": "ipython2",
   "version": "2.7.6"
  }
 },
 "nbformat": 4,
 "nbformat_minor": 0
}